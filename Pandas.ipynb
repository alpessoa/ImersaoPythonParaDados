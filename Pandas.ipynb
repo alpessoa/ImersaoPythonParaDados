{
 "cells": [
  {
   "cell_type": "code",
   "execution_count": 52,
   "metadata": {},
   "outputs": [],
   "source": [
    "import pandas as pd\n",
    "import plotly.express as px\n",
    "import matplotlib.pyplot as plt\n",
    "import numpy as np\n",
    "\n",
    "df = pd.read_csv(\"acidentes2022.csv\", sep=\";\", on_bad_lines=\"skip\")"
   ]
  },
  {
   "cell_type": "code",
   "execution_count": 53,
   "metadata": {},
   "outputs": [],
   "source": [
    "# Exibindo todas as colunas\n",
    "pd.set_option('display.max_columns', None)\n",
    "pd.set_option('display.max_rows', None)\n",
    "pd.set_option('display.expand_frame_repr', False)"
   ]
  },
  {
   "cell_type": "code",
   "execution_count": 54,
   "metadata": {},
   "outputs": [
    {
     "data": {
      "text/html": [
       "<div>\n",
       "<style scoped>\n",
       "    .dataframe tbody tr th:only-of-type {\n",
       "        vertical-align: middle;\n",
       "    }\n",
       "\n",
       "    .dataframe tbody tr th {\n",
       "        vertical-align: top;\n",
       "    }\n",
       "\n",
       "    .dataframe thead th {\n",
       "        text-align: right;\n",
       "    }\n",
       "</style>\n",
       "<table border=\"1\" class=\"dataframe\">\n",
       "  <thead>\n",
       "    <tr style=\"text-align: right;\">\n",
       "      <th></th>\n",
       "      <th>Protocolo</th>\n",
       "      <th>data</th>\n",
       "      <th>hora</th>\n",
       "      <th>natureza</th>\n",
       "      <th>situacao</th>\n",
       "      <th>bairro</th>\n",
       "      <th>endereco</th>\n",
       "      <th>numero</th>\n",
       "      <th>detalhe_endereco_acidente</th>\n",
       "      <th>complemento</th>\n",
       "      <th>bairro_cruzamento</th>\n",
       "      <th>num_semaforo</th>\n",
       "      <th>sentido_via</th>\n",
       "      <th>tipo</th>\n",
       "      <th>auto</th>\n",
       "      <th>moto</th>\n",
       "      <th>ciclom</th>\n",
       "      <th>ciclista</th>\n",
       "      <th>pedestre</th>\n",
       "      <th>onibus</th>\n",
       "      <th>caminhao</th>\n",
       "      <th>viatura</th>\n",
       "      <th>outros</th>\n",
       "      <th>vitimas</th>\n",
       "      <th>vitimasfatais</th>\n",
       "      <th>acidente_verificado</th>\n",
       "      <th>tempo_clima</th>\n",
       "      <th>situacao_semaforo</th>\n",
       "      <th>sinalizacao</th>\n",
       "      <th>condicao_via</th>\n",
       "      <th>conservacao_via</th>\n",
       "      <th>ponto_controle</th>\n",
       "      <th>situacao_placa</th>\n",
       "      <th>velocidade_max_via</th>\n",
       "      <th>mao_direcao</th>\n",
       "      <th>divisao_via1</th>\n",
       "      <th>divisao_via2</th>\n",
       "      <th>divisao_via3</th>\n",
       "    </tr>\n",
       "  </thead>\n",
       "  <tbody>\n",
       "    <tr>\n",
       "      <th>0</th>\n",
       "      <td>202200001,0</td>\n",
       "      <td>2022-01-01</td>\n",
       "      <td>NaN</td>\n",
       "      <td>COM VÍTIMA</td>\n",
       "      <td>FINALIZADA</td>\n",
       "      <td>JORDÃO</td>\n",
       "      <td>AV MARIA IRENE</td>\n",
       "      <td>130,0</td>\n",
       "      <td>NaN</td>\n",
       "      <td>NaN</td>\n",
       "      <td>JORDÃO</td>\n",
       "      <td>NaN</td>\n",
       "      <td>SUBURBIO</td>\n",
       "      <td>COLISÃO FRONTAL</td>\n",
       "      <td>1,0</td>\n",
       "      <td>1,0</td>\n",
       "      <td>0,0</td>\n",
       "      <td>0,0</td>\n",
       "      <td>0,0</td>\n",
       "      <td>0,0</td>\n",
       "      <td>0,0</td>\n",
       "      <td>0,0</td>\n",
       "      <td>0,0</td>\n",
       "      <td>1,0</td>\n",
       "      <td>0,0</td>\n",
       "      <td>Longo da via</td>\n",
       "      <td>Bom</td>\n",
       "      <td>Não existe</td>\n",
       "      <td>Não existente</td>\n",
       "      <td>Seca</td>\n",
       "      <td>Perfeito estado</td>\n",
       "      <td>Não existe</td>\n",
       "      <td>Não há placas</td>\n",
       "      <td>NaN</td>\n",
       "      <td>Dupla</td>\n",
       "      <td>Não existe</td>\n",
       "      <td>NaN</td>\n",
       "      <td>NaN</td>\n",
       "    </tr>\n",
       "    <tr>\n",
       "      <th>1</th>\n",
       "      <td>202200007,0</td>\n",
       "      <td>2022-01-01</td>\n",
       "      <td>NaN</td>\n",
       "      <td>SEM VÍTIMA</td>\n",
       "      <td>FINALIZADA</td>\n",
       "      <td>IMBIRIBEIRA</td>\n",
       "      <td>AV MARECHAL MASCARENHAS DE MORAES</td>\n",
       "      <td>NaN</td>\n",
       "      <td>NaN</td>\n",
       "      <td>LADO OPOSTO AO NÚMERO 4728</td>\n",
       "      <td>IMBIRIBEIRA</td>\n",
       "      <td>471,0</td>\n",
       "      <td>CIDADE</td>\n",
       "      <td>COLISÃO TRASEIRA</td>\n",
       "      <td>2,0</td>\n",
       "      <td>0,0</td>\n",
       "      <td>0,0</td>\n",
       "      <td>0,0</td>\n",
       "      <td>0,0</td>\n",
       "      <td>0,0</td>\n",
       "      <td>0,0</td>\n",
       "      <td>0,0</td>\n",
       "      <td>0,0</td>\n",
       "      <td>0,0</td>\n",
       "      <td>0,0</td>\n",
       "      <td>Longo da via</td>\n",
       "      <td>Bom</td>\n",
       "      <td>Sem defeito</td>\n",
       "      <td>Perfeito estado</td>\n",
       "      <td>Seca</td>\n",
       "      <td>Perfeito estado</td>\n",
       "      <td>Faixa de pedestre</td>\n",
       "      <td>Não há placas</td>\n",
       "      <td>NaN</td>\n",
       "      <td>Dupla</td>\n",
       "      <td>Canteiro central</td>\n",
       "      <td>NaN</td>\n",
       "      <td>NaN</td>\n",
       "    </tr>\n",
       "  </tbody>\n",
       "</table>\n",
       "</div>"
      ],
      "text/plain": [
       "     Protocolo        data  hora    natureza    situacao       bairro                           endereco numero detalhe_endereco_acidente                 complemento bairro_cruzamento num_semaforo sentido_via              tipo auto moto ciclom ciclista pedestre onibus caminhao viatura outros vitimas vitimasfatais acidente_verificado tempo_clima situacao_semaforo      sinalizacao condicao_via  conservacao_via     ponto_controle situacao_placa velocidade_max_via mao_direcao      divisao_via1 divisao_via2 divisao_via3\n",
       "0  202200001,0  2022-01-01   NaN  COM VÍTIMA  FINALIZADA       JORDÃO                     AV MARIA IRENE  130,0                       NaN                         NaN            JORDÃO          NaN    SUBURBIO   COLISÃO FRONTAL  1,0  1,0    0,0      0,0      0,0    0,0      0,0     0,0    0,0     1,0           0,0        Longo da via         Bom        Não existe    Não existente         Seca  Perfeito estado         Não existe  Não há placas                NaN       Dupla        Não existe          NaN          NaN\n",
       "1  202200007,0  2022-01-01   NaN  SEM VÍTIMA  FINALIZADA  IMBIRIBEIRA  AV MARECHAL MASCARENHAS DE MORAES    NaN                       NaN  LADO OPOSTO AO NÚMERO 4728       IMBIRIBEIRA        471,0      CIDADE  COLISÃO TRASEIRA  2,0  0,0    0,0      0,0      0,0    0,0      0,0     0,0    0,0     0,0           0,0        Longo da via         Bom       Sem defeito  Perfeito estado         Seca  Perfeito estado  Faixa de pedestre  Não há placas                NaN       Dupla  Canteiro central          NaN          NaN"
      ]
     },
     "execution_count": 54,
     "metadata": {},
     "output_type": "execute_result"
    }
   ],
   "source": [
    "df.head(2) #exibe os 5 primeiros ou o parametro que foi passado (no caso 2)"
   ]
  },
  {
   "cell_type": "code",
   "execution_count": 55,
   "metadata": {},
   "outputs": [
    {
     "data": {
      "text/plain": [
       "Index(['Protocolo', 'data', 'hora', 'natureza', 'situacao', 'bairro',\n",
       "       'endereco', 'numero', 'detalhe_endereco_acidente', 'complemento',\n",
       "       'bairro_cruzamento', 'num_semaforo', 'sentido_via', 'tipo', 'auto',\n",
       "       'moto', 'ciclom', 'ciclista', 'pedestre', 'onibus', 'caminhao',\n",
       "       'viatura', 'outros', 'vitimas', 'vitimasfatais', 'acidente_verificado',\n",
       "       'tempo_clima', 'situacao_semaforo', 'sinalizacao', 'condicao_via',\n",
       "       'conservacao_via', 'ponto_controle', 'situacao_placa',\n",
       "       'velocidade_max_via', 'mao_direcao', 'divisao_via1', 'divisao_via2',\n",
       "       'divisao_via3'],\n",
       "      dtype='object')"
      ]
     },
     "execution_count": 55,
     "metadata": {},
     "output_type": "execute_result"
    }
   ],
   "source": [
    "df.columns"
   ]
  },
  {
   "cell_type": "code",
   "execution_count": 56,
   "metadata": {},
   "outputs": [
    {
     "data": {
      "text/plain": [
       "Protocolo                     object\n",
       "data                          object\n",
       "hora                         float64\n",
       "natureza                      object\n",
       "situacao                      object\n",
       "bairro                        object\n",
       "endereco                      object\n",
       "numero                        object\n",
       "detalhe_endereco_acidente     object\n",
       "complemento                   object\n",
       "bairro_cruzamento             object\n",
       "num_semaforo                  object\n",
       "sentido_via                   object\n",
       "tipo                          object\n",
       "auto                          object\n",
       "moto                          object\n",
       "ciclom                        object\n",
       "ciclista                      object\n",
       "pedestre                      object\n",
       "onibus                        object\n",
       "caminhao                      object\n",
       "viatura                       object\n",
       "outros                        object\n",
       "vitimas                       object\n",
       "vitimasfatais                 object\n",
       "acidente_verificado           object\n",
       "tempo_clima                   object\n",
       "situacao_semaforo             object\n",
       "sinalizacao                   object\n",
       "condicao_via                  object\n",
       "conservacao_via               object\n",
       "ponto_controle                object\n",
       "situacao_placa                object\n",
       "velocidade_max_via            object\n",
       "mao_direcao                   object\n",
       "divisao_via1                  object\n",
       "divisao_via2                  object\n",
       "divisao_via3                  object\n",
       "dtype: object"
      ]
     },
     "execution_count": 56,
     "metadata": {},
     "output_type": "execute_result"
    }
   ],
   "source": [
    "df.dtypes #tipo de dados"
   ]
  },
  {
   "cell_type": "code",
   "execution_count": 57,
   "metadata": {},
   "outputs": [
    {
     "name": "stdout",
     "output_type": "stream",
     "text": [
      "<class 'pandas.core.frame.DataFrame'>\n",
      "RangeIndex: 2669 entries, 0 to 2668\n",
      "Data columns (total 38 columns):\n",
      " #   Column                     Non-Null Count  Dtype  \n",
      "---  ------                     --------------  -----  \n",
      " 0   Protocolo                  2669 non-null   object \n",
      " 1   data                       2669 non-null   object \n",
      " 2   hora                       0 non-null      float64\n",
      " 3   natureza                   2669 non-null   object \n",
      " 4   situacao                   2669 non-null   object \n",
      " 5   bairro                     2659 non-null   object \n",
      " 6   endereco                   2663 non-null   object \n",
      " 7   numero                     1501 non-null   object \n",
      " 8   detalhe_endereco_acidente  1013 non-null   object \n",
      " 9   complemento                2514 non-null   object \n",
      " 10  bairro_cruzamento          2659 non-null   object \n",
      " 11  num_semaforo               631 non-null    object \n",
      " 12  sentido_via                1552 non-null   object \n",
      " 13  tipo                       2563 non-null   object \n",
      " 14  auto                       2669 non-null   object \n",
      " 15  moto                       2669 non-null   object \n",
      " 16  ciclom                     2669 non-null   object \n",
      " 17  ciclista                   2669 non-null   object \n",
      " 18  pedestre                   2669 non-null   object \n",
      " 19  onibus                     2669 non-null   object \n",
      " 20  caminhao                   2669 non-null   object \n",
      " 21  viatura                    2669 non-null   object \n",
      " 22  outros                     2669 non-null   object \n",
      " 23  vitimas                    2669 non-null   object \n",
      " 24  vitimasfatais              2669 non-null   object \n",
      " 25  acidente_verificado        2092 non-null   object \n",
      " 26  tempo_clima                2111 non-null   object \n",
      " 27  situacao_semaforo          2090 non-null   object \n",
      " 28  sinalizacao                2079 non-null   object \n",
      " 29  condicao_via               2103 non-null   object \n",
      " 30  conservacao_via            2088 non-null   object \n",
      " 31  ponto_controle             2002 non-null   object \n",
      " 32  situacao_placa             1979 non-null   object \n",
      " 33  velocidade_max_via         767 non-null    object \n",
      " 34  mao_direcao                2059 non-null   object \n",
      " 35  divisao_via1               2026 non-null   object \n",
      " 36  divisao_via2               210 non-null    object \n",
      " 37  divisao_via3               31 non-null     object \n",
      "dtypes: float64(1), object(37)\n",
      "memory usage: 792.5+ KB\n"
     ]
    }
   ],
   "source": [
    "df.info()"
   ]
  },
  {
   "cell_type": "code",
   "execution_count": 58,
   "metadata": {},
   "outputs": [],
   "source": [
    "df[\"vitimas\"] = df[\"vitimas\"].str.replace(\",\",\".\").astype(float)"
   ]
  },
  {
   "cell_type": "code",
   "execution_count": 59,
   "metadata": {},
   "outputs": [
    {
     "data": {
      "text/plain": [
       "Protocolo                     object\n",
       "data                          object\n",
       "hora                         float64\n",
       "natureza                      object\n",
       "situacao                      object\n",
       "bairro                        object\n",
       "endereco                      object\n",
       "numero                        object\n",
       "detalhe_endereco_acidente     object\n",
       "complemento                   object\n",
       "bairro_cruzamento             object\n",
       "num_semaforo                  object\n",
       "sentido_via                   object\n",
       "tipo                          object\n",
       "auto                          object\n",
       "moto                          object\n",
       "ciclom                        object\n",
       "ciclista                      object\n",
       "pedestre                      object\n",
       "onibus                        object\n",
       "caminhao                      object\n",
       "viatura                       object\n",
       "outros                        object\n",
       "vitimas                      float64\n",
       "vitimasfatais                 object\n",
       "acidente_verificado           object\n",
       "tempo_clima                   object\n",
       "situacao_semaforo             object\n",
       "sinalizacao                   object\n",
       "condicao_via                  object\n",
       "conservacao_via               object\n",
       "ponto_controle                object\n",
       "situacao_placa                object\n",
       "velocidade_max_via            object\n",
       "mao_direcao                   object\n",
       "divisao_via1                  object\n",
       "divisao_via2                  object\n",
       "divisao_via3                  object\n",
       "dtype: object"
      ]
     },
     "execution_count": 59,
     "metadata": {},
     "output_type": "execute_result"
    }
   ],
   "source": [
    "df.dtypes"
   ]
  },
  {
   "cell_type": "code",
   "execution_count": 60,
   "metadata": {},
   "outputs": [
    {
     "data": {
      "text/plain": [
       "np.float64(2460.0)"
      ]
     },
     "execution_count": 60,
     "metadata": {},
     "output_type": "execute_result"
    }
   ],
   "source": [
    "df[\"vitimas\"].sum()"
   ]
  },
  {
   "cell_type": "code",
   "execution_count": 61,
   "metadata": {},
   "outputs": [],
   "source": [
    "df[\"vitimasfatais\"] = df[\"vitimasfatais\"].str.replace(\",\",\".\").astype(float)"
   ]
  },
  {
   "cell_type": "code",
   "execution_count": 62,
   "metadata": {},
   "outputs": [
    {
     "data": {
      "text/plain": [
       "np.float64(25.0)"
      ]
     },
     "execution_count": 62,
     "metadata": {},
     "output_type": "execute_result"
    }
   ],
   "source": [
    "df[\"vitimasfatais\"].sum()"
   ]
  },
  {
   "cell_type": "code",
   "execution_count": 63,
   "metadata": {},
   "outputs": [
    {
     "data": {
      "text/plain": [
       "Timestamp('2022-12-31 00:00:00')"
      ]
     },
     "execution_count": 63,
     "metadata": {},
     "output_type": "execute_result"
    }
   ],
   "source": [
    "df[\"data\"] = pd.to_datetime(df[\"data\"])\n",
    "max(df[\"data\"])"
   ]
  },
  {
   "cell_type": "code",
   "execution_count": 64,
   "metadata": {},
   "outputs": [
    {
     "data": {
      "text/plain": [
       "Protocolo                            object\n",
       "data                         datetime64[ns]\n",
       "hora                                float64\n",
       "natureza                             object\n",
       "situacao                             object\n",
       "bairro                               object\n",
       "endereco                             object\n",
       "numero                               object\n",
       "detalhe_endereco_acidente            object\n",
       "complemento                          object\n",
       "bairro_cruzamento                    object\n",
       "num_semaforo                         object\n",
       "sentido_via                          object\n",
       "tipo                                 object\n",
       "auto                                 object\n",
       "moto                                 object\n",
       "ciclom                               object\n",
       "ciclista                             object\n",
       "pedestre                             object\n",
       "onibus                               object\n",
       "caminhao                             object\n",
       "viatura                              object\n",
       "outros                               object\n",
       "vitimas                             float64\n",
       "vitimasfatais                       float64\n",
       "acidente_verificado                  object\n",
       "tempo_clima                          object\n",
       "situacao_semaforo                    object\n",
       "sinalizacao                          object\n",
       "condicao_via                         object\n",
       "conservacao_via                      object\n",
       "ponto_controle                       object\n",
       "situacao_placa                       object\n",
       "velocidade_max_via                   object\n",
       "mao_direcao                          object\n",
       "divisao_via1                         object\n",
       "divisao_via2                         object\n",
       "divisao_via3                         object\n",
       "dtype: object"
      ]
     },
     "execution_count": 64,
     "metadata": {},
     "output_type": "execute_result"
    }
   ],
   "source": [
    "df.dtypes"
   ]
  },
  {
   "cell_type": "code",
   "execution_count": 65,
   "metadata": {},
   "outputs": [
    {
     "data": {
      "text/plain": [
       "array(['COLISÃO FRONTAL', 'COLISÃO TRASEIRA', 'COLISÃO LATERAL',\n",
       "       'CAPOTAMENTO', nan, 'COLISÃO TRANSVERSAL',\n",
       "       'ATROPELAMENTO DE PESSOA', 'CHOQUE', 'COLISÃO COM CICLISTA',\n",
       "       'QUEDA', 'TOMBAMENTO', 'ATROPELAMENTO DE ANIMAL', 'ENGAVETAMENTO',\n",
       "       'RENDIÇÃO', 'OUTROS', 'PROTESTO', 'APOIO EMLURB', 'MONITORAMENTO',\n",
       "       'FISCALIZAÇÃO'], dtype=object)"
      ]
     },
     "execution_count": 65,
     "metadata": {},
     "output_type": "execute_result"
    }
   ],
   "source": [
    "df[\"tipo\"].unique()#retornando valores unicos de uma coluna"
   ]
  },
  {
   "cell_type": "code",
   "execution_count": 66,
   "metadata": {},
   "outputs": [
    {
     "data": {
      "text/plain": [
       "18"
      ]
     },
     "execution_count": 66,
     "metadata": {},
     "output_type": "execute_result"
    }
   ],
   "source": [
    "df[\"tipo\"].nunique() #retornando o total de valores unicos de uma coluna"
   ]
  },
  {
   "cell_type": "code",
   "execution_count": 67,
   "metadata": {},
   "outputs": [
    {
     "data": {
      "text/plain": [
       "Protocolo                       0\n",
       "data                            0\n",
       "hora                         2669\n",
       "natureza                        0\n",
       "situacao                        0\n",
       "bairro                         10\n",
       "endereco                        6\n",
       "numero                       1168\n",
       "detalhe_endereco_acidente    1656\n",
       "complemento                   155\n",
       "bairro_cruzamento              10\n",
       "num_semaforo                 2038\n",
       "sentido_via                  1117\n",
       "tipo                          106\n",
       "auto                            0\n",
       "moto                            0\n",
       "ciclom                          0\n",
       "ciclista                        0\n",
       "pedestre                        0\n",
       "onibus                          0\n",
       "caminhao                        0\n",
       "viatura                         0\n",
       "outros                          0\n",
       "vitimas                         0\n",
       "vitimasfatais                   0\n",
       "acidente_verificado           577\n",
       "tempo_clima                   558\n",
       "situacao_semaforo             579\n",
       "sinalizacao                   590\n",
       "condicao_via                  566\n",
       "conservacao_via               581\n",
       "ponto_controle                667\n",
       "situacao_placa                690\n",
       "velocidade_max_via           1902\n",
       "mao_direcao                   610\n",
       "divisao_via1                  643\n",
       "divisao_via2                 2459\n",
       "divisao_via3                 2638\n",
       "dtype: int64"
      ]
     },
     "execution_count": 67,
     "metadata": {},
     "output_type": "execute_result"
    }
   ],
   "source": [
    "df.isnull().sum() #verificação de dados nulos"
   ]
  },
  {
   "cell_type": "code",
   "execution_count": 68,
   "metadata": {},
   "outputs": [
    {
     "data": {
      "text/plain": [
       "Protocolo                      0.00\n",
       "data                           0.00\n",
       "hora                         100.00\n",
       "natureza                       0.00\n",
       "situacao                       0.00\n",
       "bairro                         0.37\n",
       "endereco                       0.22\n",
       "numero                        43.76\n",
       "detalhe_endereco_acidente     62.05\n",
       "complemento                    5.81\n",
       "bairro_cruzamento              0.37\n",
       "num_semaforo                  76.36\n",
       "sentido_via                   41.85\n",
       "tipo                           3.97\n",
       "auto                           0.00\n",
       "moto                           0.00\n",
       "ciclom                         0.00\n",
       "ciclista                       0.00\n",
       "pedestre                       0.00\n",
       "onibus                         0.00\n",
       "caminhao                       0.00\n",
       "viatura                        0.00\n",
       "outros                         0.00\n",
       "vitimas                        0.00\n",
       "vitimasfatais                  0.00\n",
       "acidente_verificado           21.62\n",
       "tempo_clima                   20.91\n",
       "situacao_semaforo             21.69\n",
       "sinalizacao                   22.11\n",
       "condicao_via                  21.21\n",
       "conservacao_via               21.77\n",
       "ponto_controle                24.99\n",
       "situacao_placa                25.85\n",
       "velocidade_max_via            71.26\n",
       "mao_direcao                   22.86\n",
       "divisao_via1                  24.09\n",
       "divisao_via2                  92.13\n",
       "divisao_via3                  98.84\n",
       "dtype: float64"
      ]
     },
     "execution_count": 68,
     "metadata": {},
     "output_type": "execute_result"
    }
   ],
   "source": [
    "round(df.isnull().mean()*100, 2) #percentual de dados nulos"
   ]
  },
  {
   "cell_type": "code",
   "execution_count": 69,
   "metadata": {},
   "outputs": [],
   "source": [
    "#df.dropna(inplace=True) Apaga todas as linhas com valores nulos\n",
    "#df.dropna(subset=[\"bairro\"], inplace=True)  apaga linhas com valores ausentes de uma coluna em especifico\n",
    "df[\"hora\"] = df[\"hora\"].fillna(0) #preenchendo todos os vaalores nulos"
   ]
  },
  {
   "cell_type": "code",
   "execution_count": 70,
   "metadata": {},
   "outputs": [
    {
     "data": {
      "image/png": "[encoded data removed]",
      "text/plain": [
       "<Figure size 640x480 with 1 Axes>"
      ]
     },
     "metadata": {},
     "output_type": "display_data"
    }
   ],
   "source": [
    "df[\"tempo_clima\"].value_counts().plot.barh(title=\"Total de acidentes por clima\", color=\"#ff1493\"); #total de acidentes por tempo clima"
   ]
  },
  {
   "cell_type": "code",
   "execution_count": 71,
   "metadata": {},
   "outputs": [
    {
     "data": {
      "text/plain": [
       "array([1789,  309,   13])"
      ]
     },
     "execution_count": 71,
     "metadata": {},
     "output_type": "execute_result"
    }
   ],
   "source": [
    "clima = df[\"tempo_clima\"].value_counts()\n",
    "clima.values"
   ]
  },
  {
   "cell_type": "code",
   "execution_count": 72,
   "metadata": {},
   "outputs": [
    {
     "data": {
      "application/vnd.plotly.v1+json": {
       "config": {
        "plotlyServerURL": "https://plot.ly"
       },
       "data": [
        {
         "alignmentgroup": "True",
         "hovertemplate": "tempo_clima=%{x}<br>y=%{y}<br>text=%{text}<extra></extra>",
         "legendgroup": "",
         "marker": {
          "color": "red",
          "pattern": {
           "shape": ""
          }
         },
         "name": "",
         "offsetgroup": "",
         "orientation": "v",
         "showlegend": false,
         "text": [
          1789,
          309,
          13
         ],
         "textposition": "auto",
         "type": "bar",
         "x": [
          "Bom",
          "Chuvoso",
          "Nublado"
         ],
         "xaxis": "x",
         "y": [
          1789,
          309,
          13
         ],
         "yaxis": "y"
        }
       ],
       "layout": {
        "barmode": "relative",
        "legend": {
         "tracegroupgap": 0
        },
        "margin": {
         "t": 60
        },
        "template": {
         "data": {
          "bar": [
           {
            "error_x": {
             "color": "#2a3f5f"
            },
            "error_y": {
             "color": "#2a3f5f"
            },
            "marker": {
             "line": {
              "color": "#E5ECF6",
              "width": 0.5
             },
             "pattern": {
              "fillmode": "overlay",
              "size": 10,
              "solidity": 0.2
             }
            },
            "type": "bar"
           }
          ],
          "barpolar": [
           {
            "marker": {
             "line": {
              "color": "#E5ECF6",
              "width": 0.5
             },
             "pattern": {
              "fillmode": "overlay",
              "size": 10,
              "solidity": 0.2
             }
            },
            "type": "barpolar"
           }
          ],
          "carpet": [
           {
            "aaxis": {
             "endlinecolor": "#2a3f5f",
             "gridcolor": "white",
             "linecolor": "white",
             "minorgridcolor": "white",
             "startlinecolor": "#2a3f5f"
            },
            "baxis": {
             "endlinecolor": "#2a3f5f",
             "gridcolor": "white",
             "linecolor": "white",
             "minorgridcolor": "white",
             "startlinecolor": "#2a3f5f"
            },
            "type": "carpet"
           }
          ],
          "choropleth": [
           {
            "colorbar": {
             "outlinewidth": 0,
             "ticks": ""
            },
            "type": "choropleth"
           }
          ],
          "contour": [
           {
            "colorbar": {
             "outlinewidth": 0,
             "ticks": ""
            },
            "colorscale": [
             [
              0,
              "#0d0887"
             ],
             [
              0.1111111111111111,
              "#46039f"
             ],
             [
              0.2222222222222222,
              "#7201a8"
             ],
             [
              0.3333333333333333,
              "#9c179e"
             ],
             [
              0.4444444444444444,
              "#bd3786"
             ],
             [
              0.5555555555555556,
              "#d8576b"
             ],
             [
              0.6666666666666666,
              "#ed7953"
             ],
             [
              0.7777777777777778,
              "#fb9f3a"
             ],
             [
              0.8888888888888888,
              "#fdca26"
             ],
             [
              1,
              "#f0f921"
             ]
            ],
            "type": "contour"
           }
          ],
          "contourcarpet": [
           {
            "colorbar": {
             "outlinewidth": 0,
             "ticks": ""
            },
            "type": "contourcarpet"
           }
          ],
          "heatmap": [
           {
            "colorbar": {
             "outlinewidth": 0,
             "ticks": ""
            },
            "colorscale": [
             [
              0,
              "#0d0887"
             ],
             [
              0.1111111111111111,
              "#46039f"
             ],
             [
              0.2222222222222222,
              "#7201a8"
             ],
             [
              0.3333333333333333,
              "#9c179e"
             ],
             [
              0.4444444444444444,
              "#bd3786"
             ],
             [
              0.5555555555555556,
              "#d8576b"
             ],
             [
              0.6666666666666666,
              "#ed7953"
             ],
             [
              0.7777777777777778,
              "#fb9f3a"
             ],
             [
              0.8888888888888888,
              "#fdca26"
             ],
             [
              1,
              "#f0f921"
             ]
            ],
            "type": "heatmap"
           }
          ],
          "heatmapgl": [
           {
            "colorbar": {
             "outlinewidth": 0,
             "ticks": ""
            },
            "colorscale": [
             [
              0,
              "#0d0887"
             ],
             [
              0.1111111111111111,
              "#46039f"
             ],
             [
              0.2222222222222222,
              "#7201a8"
             ],
             [
              0.3333333333333333,
              "#9c179e"
             ],
             [
              0.4444444444444444,
              "#bd3786"
             ],
             [
              0.5555555555555556,
              "#d8576b"
             ],
             [
              0.6666666666666666,
              "#ed7953"
             ],
             [
              0.7777777777777778,
              "#fb9f3a"
             ],
             [
              0.8888888888888888,
              "#fdca26"
             ],
             [
              1,
              "#f0f921"
             ]
            ],
            "type": "heatmapgl"
           }
          ],
          "histogram": [
           {
            "marker": {
             "pattern": {
              "fillmode": "overlay",
              "size": 10,
              "solidity": 0.2
             }
            },
            "type": "histogram"
           }
          ],
          "histogram2d": [
           {
            "colorbar": {
             "outlinewidth": 0,
             "ticks": ""
            },
            "colorscale": [
             [
              0,
              "#0d0887"
             ],
             [
              0.1111111111111111,
              "#46039f"
             ],
             [
              0.2222222222222222,
              "#7201a8"
             ],
             [
              0.3333333333333333,
              "#9c179e"
             ],
             [
              0.4444444444444444,
              "#bd3786"
             ],
             [
              0.5555555555555556,
              "#d8576b"
             ],
             [
              0.6666666666666666,
              "#ed7953"
             ],
             [
              0.7777777777777778,
              "#fb9f3a"
             ],
             [
              0.8888888888888888,
              "#fdca26"
             ],
             [
              1,
              "#f0f921"
             ]
            ],
            "type": "histogram2d"
           }
          ],
          "histogram2dcontour": [
           {
            "colorbar": {
             "outlinewidth": 0,
             "ticks": ""
            },
            "colorscale": [
             [
              0,
              "#0d0887"
             ],
             [
              0.1111111111111111,
              "#46039f"
             ],
             [
              0.2222222222222222,
              "#7201a8"
             ],
             [
              0.3333333333333333,
              "#9c179e"
             ],
             [
              0.4444444444444444,
              "#bd3786"
             ],
             [
              0.5555555555555556,
              "#d8576b"
             ],
             [
              0.6666666666666666,
              "#ed7953"
             ],
             [
              0.7777777777777778,
              "#fb9f3a"
             ],
             [
              0.8888888888888888,
              "#fdca26"
             ],
             [
              1,
              "#f0f921"
             ]
            ],
            "type": "histogram2dcontour"
           }
          ],
          "mesh3d": [
           {
            "colorbar": {
             "outlinewidth": 0,
             "ticks": ""
            },
            "type": "mesh3d"
           }
          ],
          "parcoords": [
           {
            "line": {
             "colorbar": {
              "outlinewidth": 0,
              "ticks": ""
             }
            },
            "type": "parcoords"
           }
          ],
          "pie": [
           {
            "automargin": true,
            "type": "pie"
           }
          ],
          "scatter": [
           {
            "fillpattern": {
             "fillmode": "overlay",
             "size": 10,
             "solidity": 0.2
            },
            "type": "scatter"
           }
          ],
          "scatter3d": [
           {
            "line": {
             "colorbar": {
              "outlinewidth": 0,
              "ticks": ""
             }
            },
            "marker": {
             "colorbar": {
              "outlinewidth": 0,
              "ticks": ""
             }
            },
            "type": "scatter3d"
           }
          ],
          "scattercarpet": [
           {
            "marker": {
             "colorbar": {
              "outlinewidth": 0,
              "ticks": ""
             }
            },
            "type": "scattercarpet"
           }
          ],
          "scattergeo": [
           {
            "marker": {
             "colorbar": {
              "outlinewidth": 0,
              "ticks": ""
             }
            },
            "type": "scattergeo"
           }
          ],
          "scattergl": [
           {
            "marker": {
             "colorbar": {
              "outlinewidth": 0,
              "ticks": ""
             }
            },
            "type": "scattergl"
           }
          ],
          "scattermapbox": [
           {
            "marker": {
             "colorbar": {
              "outlinewidth": 0,
              "ticks": ""
             }
            },
            "type": "scattermapbox"
           }
          ],
          "scatterpolar": [
           {
            "marker": {
             "colorbar": {
              "outlinewidth": 0,
              "ticks": ""
             }
            },
            "type": "scatterpolar"
           }
          ],
          "scatterpolargl": [
           {
            "marker": {
             "colorbar": {
              "outlinewidth": 0,
              "ticks": ""
             }
            },
            "type": "scatterpolargl"
           }
          ],
          "scatterternary": [
           {
            "marker": {
             "colorbar": {
              "outlinewidth": 0,
              "ticks": ""
             }
            },
            "type": "scatterternary"
           }
          ],
          "surface": [
           {
            "colorbar": {
             "outlinewidth": 0,
             "ticks": ""
            },
            "colorscale": [
             [
              0,
              "#0d0887"
             ],
             [
              0.1111111111111111,
              "#46039f"
             ],
             [
              0.2222222222222222,
              "#7201a8"
             ],
             [
              0.3333333333333333,
              "#9c179e"
             ],
             [
              0.4444444444444444,
              "#bd3786"
             ],
             [
              0.5555555555555556,
              "#d8576b"
             ],
             [
              0.6666666666666666,
              "#ed7953"
             ],
             [
              0.7777777777777778,
              "#fb9f3a"
             ],
             [
              0.8888888888888888,
              "#fdca26"
             ],
             [
              1,
              "#f0f921"
             ]
            ],
            "type": "surface"
           }
          ],
          "table": [
           {
            "cells": {
             "fill": {
              "color": "#EBF0F8"
             },
             "line": {
              "color": "white"
             }
            },
            "header": {
             "fill": {
              "color": "#C8D4E3"
             },
             "line": {
              "color": "white"
             }
            },
            "type": "table"
           }
          ]
         },
         "layout": {
          "annotationdefaults": {
           "arrowcolor": "#2a3f5f",
           "arrowhead": 0,
           "arrowwidth": 1
          },
          "autotypenumbers": "strict",
          "coloraxis": {
           "colorbar": {
            "outlinewidth": 0,
            "ticks": ""
           }
          },
          "colorscale": {
           "diverging": [
            [
             0,
             "#8e0152"
            ],
            [
             0.1,
             "#c51b7d"
            ],
            [
             0.2,
             "#de77ae"
            ],
            [
             0.3,
             "#f1b6da"
            ],
            [
             0.4,
             "#fde0ef"
            ],
            [
             0.5,
             "#f7f7f7"
            ],
            [
             0.6,
             "#e6f5d0"
            ],
            [
             0.7,
             "#b8e186"
            ],
            [
             0.8,
             "#7fbc41"
            ],
            [
             0.9,
             "#4d9221"
            ],
            [
             1,
             "#276419"
            ]
           ],
           "sequential": [
            [
             0,
             "#0d0887"
            ],
            [
             0.1111111111111111,
             "#46039f"
            ],
            [
             0.2222222222222222,
             "#7201a8"
            ],
            [
             0.3333333333333333,
             "#9c179e"
            ],
            [
             0.4444444444444444,
             "#bd3786"
            ],
            [
             0.5555555555555556,
             "#d8576b"
            ],
            [
             0.6666666666666666,
             "#ed7953"
            ],
            [
             0.7777777777777778,
             "#fb9f3a"
            ],
            [
             0.8888888888888888,
             "#fdca26"
            ],
            [
             1,
             "#f0f921"
            ]
           ],
           "sequentialminus": [
            [
             0,
             "#0d0887"
            ],
            [
             0.1111111111111111,
             "#46039f"
            ],
            [
             0.2222222222222222,
             "#7201a8"
            ],
            [
             0.3333333333333333,
             "#9c179e"
            ],
            [
             0.4444444444444444,
             "#bd3786"
            ],
            [
             0.5555555555555556,
             "#d8576b"
            ],
            [
             0.6666666666666666,
             "#ed7953"
            ],
            [
             0.7777777777777778,
             "#fb9f3a"
            ],
            [
             0.8888888888888888,
             "#fdca26"
            ],
            [
             1,
             "#f0f921"
            ]
           ]
          },
          "colorway": [
           "#636efa",
           "#EF553B",
           "#00cc96",
           "#ab63fa",
           "#FFA15A",
           "#19d3f3",
           "#FF6692",
           "#B6E880",
           "#FF97FF",
           "#FECB52"
          ],
          "font": {
           "color": "#2a3f5f"
          },
          "geo": {
           "bgcolor": "white",
           "lakecolor": "white",
           "landcolor": "#E5ECF6",
           "showlakes": true,
           "showland": true,
           "subunitcolor": "white"
          },
          "hoverlabel": {
           "align": "left"
          },
          "hovermode": "closest",
          "mapbox": {
           "style": "light"
          },
          "paper_bgcolor": "white",
          "plot_bgcolor": "#E5ECF6",
          "polar": {
           "angularaxis": {
            "gridcolor": "white",
            "linecolor": "white",
            "ticks": ""
           },
           "bgcolor": "#E5ECF6",
           "radialaxis": {
            "gridcolor": "white",
            "linecolor": "white",
            "ticks": ""
           }
          },
          "scene": {
           "xaxis": {
            "backgroundcolor": "#E5ECF6",
            "gridcolor": "white",
            "gridwidth": 2,
            "linecolor": "white",
            "showbackground": true,
            "ticks": "",
            "zerolinecolor": "white"
           },
           "yaxis": {
            "backgroundcolor": "#E5ECF6",
            "gridcolor": "white",
            "gridwidth": 2,
            "linecolor": "white",
            "showbackground": true,
            "ticks": "",
            "zerolinecolor": "white"
           },
           "zaxis": {
            "backgroundcolor": "#E5ECF6",
            "gridcolor": "white",
            "gridwidth": 2,
            "linecolor": "white",
            "showbackground": true,
            "ticks": "",
            "zerolinecolor": "white"
           }
          },
          "shapedefaults": {
           "line": {
            "color": "#2a3f5f"
           }
          },
          "ternary": {
           "aaxis": {
            "gridcolor": "white",
            "linecolor": "white",
            "ticks": ""
           },
           "baxis": {
            "gridcolor": "white",
            "linecolor": "white",
            "ticks": ""
           },
           "bgcolor": "#E5ECF6",
           "caxis": {
            "gridcolor": "white",
            "linecolor": "white",
            "ticks": ""
           }
          },
          "title": {
           "x": 0.05
          },
          "xaxis": {
           "automargin": true,
           "gridcolor": "white",
           "linecolor": "white",
           "ticks": "",
           "title": {
            "standoff": 15
           },
           "zerolinecolor": "white",
           "zerolinewidth": 2
          },
          "yaxis": {
           "automargin": true,
           "gridcolor": "white",
           "linecolor": "white",
           "ticks": "",
           "title": {
            "standoff": 15
           },
           "zerolinecolor": "white",
           "zerolinewidth": 2
          }
         }
        },
        "title": {
         "text": "Total de Acidentes por Clima",
         "x": 0.5
        },
        "xaxis": {
         "anchor": "y",
         "domain": [
          0,
          1
         ],
         "title": {
          "text": "tempo_clima"
         }
        },
        "yaxis": {
         "anchor": "x",
         "domain": [
          0,
          1
         ],
         "title": {
          "text": "y"
         }
        }
       }
      }
     },
     "metadata": {},
     "output_type": "display_data"
    }
   ],
   "source": [
    "fig = px.bar(clima, x=clima.index, y=clima.values, text=clima.values, color_discrete_sequence=[\"red\"])\n",
    "fig.update_layout(title_text= \"Total de Acidentes por Clima\", title_x=0.5)\n",
    "fig.show()"
   ]
  },
  {
   "cell_type": "code",
   "execution_count": 73,
   "metadata": {},
   "outputs": [
    {
     "data": {
      "text/html": [
       "<div>\n",
       "<style scoped>\n",
       "    .dataframe tbody tr th:only-of-type {\n",
       "        vertical-align: middle;\n",
       "    }\n",
       "\n",
       "    .dataframe tbody tr th {\n",
       "        vertical-align: top;\n",
       "    }\n",
       "\n",
       "    .dataframe thead th {\n",
       "        text-align: right;\n",
       "    }\n",
       "</style>\n",
       "<table border=\"1\" class=\"dataframe\">\n",
       "  <thead>\n",
       "    <tr style=\"text-align: right;\">\n",
       "      <th></th>\n",
       "      <th>bairro</th>\n",
       "      <th>count</th>\n",
       "    </tr>\n",
       "  </thead>\n",
       "  <tbody>\n",
       "    <tr>\n",
       "      <th>0</th>\n",
       "      <td>BOA VIAGEM</td>\n",
       "      <td>301</td>\n",
       "    </tr>\n",
       "    <tr>\n",
       "      <th>1</th>\n",
       "      <td>SANTO AMARO</td>\n",
       "      <td>141</td>\n",
       "    </tr>\n",
       "    <tr>\n",
       "      <th>2</th>\n",
       "      <td>IMBIRIBEIRA</td>\n",
       "      <td>140</td>\n",
       "    </tr>\n",
       "    <tr>\n",
       "      <th>3</th>\n",
       "      <td>BOA VISTA</td>\n",
       "      <td>94</td>\n",
       "    </tr>\n",
       "    <tr>\n",
       "      <th>4</th>\n",
       "      <td>MADALENA</td>\n",
       "      <td>88</td>\n",
       "    </tr>\n",
       "    <tr>\n",
       "      <th>5</th>\n",
       "      <td>AFOGADOS</td>\n",
       "      <td>86</td>\n",
       "    </tr>\n",
       "    <tr>\n",
       "      <th>6</th>\n",
       "      <td>CASA AMARELA</td>\n",
       "      <td>83</td>\n",
       "    </tr>\n",
       "    <tr>\n",
       "      <th>7</th>\n",
       "      <td>CORDEIRO</td>\n",
       "      <td>72</td>\n",
       "    </tr>\n",
       "    <tr>\n",
       "      <th>8</th>\n",
       "      <td>AREIAS</td>\n",
       "      <td>71</td>\n",
       "    </tr>\n",
       "    <tr>\n",
       "      <th>9</th>\n",
       "      <td>PINA</td>\n",
       "      <td>69</td>\n",
       "    </tr>\n",
       "  </tbody>\n",
       "</table>\n",
       "</div>"
      ],
      "text/plain": [
       "         bairro  count\n",
       "0    BOA VIAGEM    301\n",
       "1   SANTO AMARO    141\n",
       "2   IMBIRIBEIRA    140\n",
       "3     BOA VISTA     94\n",
       "4      MADALENA     88\n",
       "5      AFOGADOS     86\n",
       "6  CASA AMARELA     83\n",
       "7      CORDEIRO     72\n",
       "8        AREIAS     71\n",
       "9          PINA     69"
      ]
     },
     "execution_count": 73,
     "metadata": {},
     "output_type": "execute_result"
    }
   ],
   "source": [
    "top_10 = df[\"bairro\"].value_counts().head(10).reset_index()\n",
    "top_10.sort_values(by=\"count\", ascending=True)\n",
    "top_10"
   ]
  },
  {
   "cell_type": "code",
   "execution_count": 74,
   "metadata": {},
   "outputs": [
    {
     "data": {
      "application/vnd.plotly.v1+json": {
       "config": {
        "plotlyServerURL": "https://plot.ly"
       },
       "data": [
        {
         "alignmentgroup": "True",
         "hovertemplate": "count=%{text}<br>bairro=%{y}<extra></extra>",
         "legendgroup": "",
         "marker": {
          "color": "red",
          "pattern": {
           "shape": ""
          }
         },
         "name": "",
         "offsetgroup": "",
         "orientation": "h",
         "showlegend": false,
         "text": [
          301,
          141,
          140,
          94,
          88,
          86,
          83,
          72,
          71,
          69
         ],
         "textposition": "auto",
         "type": "bar",
         "x": [
          301,
          141,
          140,
          94,
          88,
          86,
          83,
          72,
          71,
          69
         ],
         "xaxis": "x",
         "y": [
          "BOA VIAGEM",
          "SANTO AMARO",
          "IMBIRIBEIRA",
          "BOA VISTA",
          "MADALENA",
          "AFOGADOS",
          "CASA AMARELA",
          "CORDEIRO",
          "AREIAS",
          "PINA"
         ],
         "yaxis": "y"
        }
       ],
       "layout": {
        "barmode": "relative",
        "legend": {
         "tracegroupgap": 0
        },
        "margin": {
         "t": 60
        },
        "template": {
         "data": {
          "bar": [
           {
            "error_x": {
             "color": "#2a3f5f"
            },
            "error_y": {
             "color": "#2a3f5f"
            },
            "marker": {
             "line": {
              "color": "#E5ECF6",
              "width": 0.5
             },
             "pattern": {
              "fillmode": "overlay",
              "size": 10,
              "solidity": 0.2
             }
            },
            "type": "bar"
           }
          ],
          "barpolar": [
           {
            "marker": {
             "line": {
              "color": "#E5ECF6",
              "width": 0.5
             },
             "pattern": {
              "fillmode": "overlay",
              "size": 10,
              "solidity": 0.2
             }
            },
            "type": "barpolar"
           }
          ],
          "carpet": [
           {
            "aaxis": {
             "endlinecolor": "#2a3f5f",
             "gridcolor": "white",
             "linecolor": "white",
             "minorgridcolor": "white",
             "startlinecolor": "#2a3f5f"
            },
            "baxis": {
             "endlinecolor": "#2a3f5f",
             "gridcolor": "white",
             "linecolor": "white",
             "minorgridcolor": "white",
             "startlinecolor": "#2a3f5f"
            },
            "type": "carpet"
           }
          ],
          "choropleth": [
           {
            "colorbar": {
             "outlinewidth": 0,
             "ticks": ""
            },
            "type": "choropleth"
           }
          ],
          "contour": [
           {
            "colorbar": {
             "outlinewidth": 0,
             "ticks": ""
            },
            "colorscale": [
             [
              0,
              "#0d0887"
             ],
             [
              0.1111111111111111,
              "#46039f"
             ],
             [
              0.2222222222222222,
              "#7201a8"
             ],
             [
              0.3333333333333333,
              "#9c179e"
             ],
             [
              0.4444444444444444,
              "#bd3786"
             ],
             [
              0.5555555555555556,
              "#d8576b"
             ],
             [
              0.6666666666666666,
              "#ed7953"
             ],
             [
              0.7777777777777778,
              "#fb9f3a"
             ],
             [
              0.8888888888888888,
              "#fdca26"
             ],
             [
              1,
              "#f0f921"
             ]
            ],
            "type": "contour"
           }
          ],
          "contourcarpet": [
           {
            "colorbar": {
             "outlinewidth": 0,
             "ticks": ""
            },
            "type": "contourcarpet"
           }
          ],
          "heatmap": [
           {
            "colorbar": {
             "outlinewidth": 0,
             "ticks": ""
            },
            "colorscale": [
             [
              0,
              "#0d0887"
             ],
             [
              0.1111111111111111,
              "#46039f"
             ],
             [
              0.2222222222222222,
              "#7201a8"
             ],
             [
              0.3333333333333333,
              "#9c179e"
             ],
             [
              0.4444444444444444,
              "#bd3786"
             ],
             [
              0.5555555555555556,
              "#d8576b"
             ],
             [
              0.6666666666666666,
              "#ed7953"
             ],
             [
              0.7777777777777778,
              "#fb9f3a"
             ],
             [
              0.8888888888888888,
              "#fdca26"
             ],
             [
              1,
              "#f0f921"
             ]
            ],
            "type": "heatmap"
           }
          ],
          "heatmapgl": [
           {
            "colorbar": {
             "outlinewidth": 0,
             "ticks": ""
            },
            "colorscale": [
             [
              0,
              "#0d0887"
             ],
             [
              0.1111111111111111,
              "#46039f"
             ],
             [
              0.2222222222222222,
              "#7201a8"
             ],
             [
              0.3333333333333333,
              "#9c179e"
             ],
             [
              0.4444444444444444,
              "#bd3786"
             ],
             [
              0.5555555555555556,
              "#d8576b"
             ],
             [
              0.6666666666666666,
              "#ed7953"
             ],
             [
              0.7777777777777778,
              "#fb9f3a"
             ],
             [
              0.8888888888888888,
              "#fdca26"
             ],
             [
              1,
              "#f0f921"
             ]
            ],
            "type": "heatmapgl"
           }
          ],
          "histogram": [
           {
            "marker": {
             "pattern": {
              "fillmode": "overlay",
              "size": 10,
              "solidity": 0.2
             }
            },
            "type": "histogram"
           }
          ],
          "histogram2d": [
           {
            "colorbar": {
             "outlinewidth": 0,
             "ticks": ""
            },
            "colorscale": [
             [
              0,
              "#0d0887"
             ],
             [
              0.1111111111111111,
              "#46039f"
             ],
             [
              0.2222222222222222,
              "#7201a8"
             ],
             [
              0.3333333333333333,
              "#9c179e"
             ],
             [
              0.4444444444444444,
              "#bd3786"
             ],
             [
              0.5555555555555556,
              "#d8576b"
             ],
             [
              0.6666666666666666,
              "#ed7953"
             ],
             [
              0.7777777777777778,
              "#fb9f3a"
             ],
             [
              0.8888888888888888,
              "#fdca26"
             ],
             [
              1,
              "#f0f921"
             ]
            ],
            "type": "histogram2d"
           }
          ],
          "histogram2dcontour": [
           {
            "colorbar": {
             "outlinewidth": 0,
             "ticks": ""
            },
            "colorscale": [
             [
              0,
              "#0d0887"
             ],
             [
              0.1111111111111111,
              "#46039f"
             ],
             [
              0.2222222222222222,
              "#7201a8"
             ],
             [
              0.3333333333333333,
              "#9c179e"
             ],
             [
              0.4444444444444444,
              "#bd3786"
             ],
             [
              0.5555555555555556,
              "#d8576b"
             ],
             [
              0.6666666666666666,
              "#ed7953"
             ],
             [
              0.7777777777777778,
              "#fb9f3a"
             ],
             [
              0.8888888888888888,
              "#fdca26"
             ],
             [
              1,
              "#f0f921"
             ]
            ],
            "type": "histogram2dcontour"
           }
          ],
          "mesh3d": [
           {
            "colorbar": {
             "outlinewidth": 0,
             "ticks": ""
            },
            "type": "mesh3d"
           }
          ],
          "parcoords": [
           {
            "line": {
             "colorbar": {
              "outlinewidth": 0,
              "ticks": ""
             }
            },
            "type": "parcoords"
           }
          ],
          "pie": [
           {
            "automargin": true,
            "type": "pie"
           }
          ],
          "scatter": [
           {
            "fillpattern": {
             "fillmode": "overlay",
             "size": 10,
             "solidity": 0.2
            },
            "type": "scatter"
           }
          ],
          "scatter3d": [
           {
            "line": {
             "colorbar": {
              "outlinewidth": 0,
              "ticks": ""
             }
            },
            "marker": {
             "colorbar": {
              "outlinewidth": 0,
              "ticks": ""
             }
            },
            "type": "scatter3d"
           }
          ],
          "scattercarpet": [
           {
            "marker": {
             "colorbar": {
              "outlinewidth": 0,
              "ticks": ""
             }
            },
            "type": "scattercarpet"
           }
          ],
          "scattergeo": [
           {
            "marker": {
             "colorbar": {
              "outlinewidth": 0,
              "ticks": ""
             }
            },
            "type": "scattergeo"
           }
          ],
          "scattergl": [
           {
            "marker": {
             "colorbar": {
              "outlinewidth": 0,
              "ticks": ""
             }
            },
            "type": "scattergl"
           }
          ],
          "scattermapbox": [
           {
            "marker": {
             "colorbar": {
              "outlinewidth": 0,
              "ticks": ""
             }
            },
            "type": "scattermapbox"
           }
          ],
          "scatterpolar": [
           {
            "marker": {
             "colorbar": {
              "outlinewidth": 0,
              "ticks": ""
             }
            },
            "type": "scatterpolar"
           }
          ],
          "scatterpolargl": [
           {
            "marker": {
             "colorbar": {
              "outlinewidth": 0,
              "ticks": ""
             }
            },
            "type": "scatterpolargl"
           }
          ],
          "scatterternary": [
           {
            "marker": {
             "colorbar": {
              "outlinewidth": 0,
              "ticks": ""
             }
            },
            "type": "scatterternary"
           }
          ],
          "surface": [
           {
            "colorbar": {
             "outlinewidth": 0,
             "ticks": ""
            },
            "colorscale": [
             [
              0,
              "#0d0887"
             ],
             [
              0.1111111111111111,
              "#46039f"
             ],
             [
              0.2222222222222222,
              "#7201a8"
             ],
             [
              0.3333333333333333,
              "#9c179e"
             ],
             [
              0.4444444444444444,
              "#bd3786"
             ],
             [
              0.5555555555555556,
              "#d8576b"
             ],
             [
              0.6666666666666666,
              "#ed7953"
             ],
             [
              0.7777777777777778,
              "#fb9f3a"
             ],
             [
              0.8888888888888888,
              "#fdca26"
             ],
             [
              1,
              "#f0f921"
             ]
            ],
            "type": "surface"
           }
          ],
          "table": [
           {
            "cells": {
             "fill": {
              "color": "#EBF0F8"
             },
             "line": {
              "color": "white"
             }
            },
            "header": {
             "fill": {
              "color": "#C8D4E3"
             },
             "line": {
              "color": "white"
             }
            },
            "type": "table"
           }
          ]
         },
         "layout": {
          "annotationdefaults": {
           "arrowcolor": "#2a3f5f",
           "arrowhead": 0,
           "arrowwidth": 1
          },
          "autotypenumbers": "strict",
          "coloraxis": {
           "colorbar": {
            "outlinewidth": 0,
            "ticks": ""
           }
          },
          "colorscale": {
           "diverging": [
            [
             0,
             "#8e0152"
            ],
            [
             0.1,
             "#c51b7d"
            ],
            [
             0.2,
             "#de77ae"
            ],
            [
             0.3,
             "#f1b6da"
            ],
            [
             0.4,
             "#fde0ef"
            ],
            [
             0.5,
             "#f7f7f7"
            ],
            [
             0.6,
             "#e6f5d0"
            ],
            [
             0.7,
             "#b8e186"
            ],
            [
             0.8,
             "#7fbc41"
            ],
            [
             0.9,
             "#4d9221"
            ],
            [
             1,
             "#276419"
            ]
           ],
           "sequential": [
            [
             0,
             "#0d0887"
            ],
            [
             0.1111111111111111,
             "#46039f"
            ],
            [
             0.2222222222222222,
             "#7201a8"
            ],
            [
             0.3333333333333333,
             "#9c179e"
            ],
            [
             0.4444444444444444,
             "#bd3786"
            ],
            [
             0.5555555555555556,
             "#d8576b"
            ],
            [
             0.6666666666666666,
             "#ed7953"
            ],
            [
             0.7777777777777778,
             "#fb9f3a"
            ],
            [
             0.8888888888888888,
             "#fdca26"
            ],
            [
             1,
             "#f0f921"
            ]
           ],
           "sequentialminus": [
            [
             0,
             "#0d0887"
            ],
            [
             0.1111111111111111,
             "#46039f"
            ],
            [
             0.2222222222222222,
             "#7201a8"
            ],
            [
             0.3333333333333333,
             "#9c179e"
            ],
            [
             0.4444444444444444,
             "#bd3786"
            ],
            [
             0.5555555555555556,
             "#d8576b"
            ],
            [
             0.6666666666666666,
             "#ed7953"
            ],
            [
             0.7777777777777778,
             "#fb9f3a"
            ],
            [
             0.8888888888888888,
             "#fdca26"
            ],
            [
             1,
             "#f0f921"
            ]
           ]
          },
          "colorway": [
           "#636efa",
           "#EF553B",
           "#00cc96",
           "#ab63fa",
           "#FFA15A",
           "#19d3f3",
           "#FF6692",
           "#B6E880",
           "#FF97FF",
           "#FECB52"
          ],
          "font": {
           "color": "#2a3f5f"
          },
          "geo": {
           "bgcolor": "white",
           "lakecolor": "white",
           "landcolor": "#E5ECF6",
           "showlakes": true,
           "showland": true,
           "subunitcolor": "white"
          },
          "hoverlabel": {
           "align": "left"
          },
          "hovermode": "closest",
          "mapbox": {
           "style": "light"
          },
          "paper_bgcolor": "white",
          "plot_bgcolor": "#E5ECF6",
          "polar": {
           "angularaxis": {
            "gridcolor": "white",
            "linecolor": "white",
            "ticks": ""
           },
           "bgcolor": "#E5ECF6",
           "radialaxis": {
            "gridcolor": "white",
            "linecolor": "white",
            "ticks": ""
           }
          },
          "scene": {
           "xaxis": {
            "backgroundcolor": "#E5ECF6",
            "gridcolor": "white",
            "gridwidth": 2,
            "linecolor": "white",
            "showbackground": true,
            "ticks": "",
            "zerolinecolor": "white"
           },
           "yaxis": {
            "backgroundcolor": "#E5ECF6",
            "gridcolor": "white",
            "gridwidth": 2,
            "linecolor": "white",
            "showbackground": true,
            "ticks": "",
            "zerolinecolor": "white"
           },
           "zaxis": {
            "backgroundcolor": "#E5ECF6",
            "gridcolor": "white",
            "gridwidth": 2,
            "linecolor": "white",
            "showbackground": true,
            "ticks": "",
            "zerolinecolor": "white"
           }
          },
          "shapedefaults": {
           "line": {
            "color": "#2a3f5f"
           }
          },
          "ternary": {
           "aaxis": {
            "gridcolor": "white",
            "linecolor": "white",
            "ticks": ""
           },
           "baxis": {
            "gridcolor": "white",
            "linecolor": "white",
            "ticks": ""
           },
           "bgcolor": "#E5ECF6",
           "caxis": {
            "gridcolor": "white",
            "linecolor": "white",
            "ticks": ""
           }
          },
          "title": {
           "x": 0.05
          },
          "xaxis": {
           "automargin": true,
           "gridcolor": "white",
           "linecolor": "white",
           "ticks": "",
           "title": {
            "standoff": 15
           },
           "zerolinecolor": "white",
           "zerolinewidth": 2
          },
          "yaxis": {
           "automargin": true,
           "gridcolor": "white",
           "linecolor": "white",
           "ticks": "",
           "title": {
            "standoff": 15
           },
           "zerolinecolor": "white",
           "zerolinewidth": 2
          }
         }
        },
        "title": {
         "text": "Top 10 por Bairro",
         "x": 0.5
        },
        "xaxis": {
         "anchor": "y",
         "domain": [
          0,
          1
         ],
         "title": {
          "text": "count"
         }
        },
        "yaxis": {
         "anchor": "x",
         "domain": [
          0,
          1
         ],
         "title": {
          "text": "bairro"
         }
        }
       }
      }
     },
     "metadata": {},
     "output_type": "display_data"
    }
   ],
   "source": [
    "fig = px.bar(top_10, x=\"count\", y=\"bairro\", text=\"count\", color_discrete_sequence=[\"red\"])\n",
    "fig.update_layout(title_text= \"Top 10 por Bairro\", title_x=0.5)\n",
    "fig.show()"
   ]
  },
  {
   "cell_type": "code",
   "execution_count": 75,
   "metadata": {},
   "outputs": [
    {
     "data": {
      "text/html": [
       "<div>\n",
       "<style scoped>\n",
       "    .dataframe tbody tr th:only-of-type {\n",
       "        vertical-align: middle;\n",
       "    }\n",
       "\n",
       "    .dataframe tbody tr th {\n",
       "        vertical-align: top;\n",
       "    }\n",
       "\n",
       "    .dataframe thead th {\n",
       "        text-align: right;\n",
       "    }\n",
       "</style>\n",
       "<table border=\"1\" class=\"dataframe\">\n",
       "  <thead>\n",
       "    <tr style=\"text-align: right;\">\n",
       "      <th></th>\n",
       "      <th>tipo</th>\n",
       "      <th>count</th>\n",
       "    </tr>\n",
       "  </thead>\n",
       "  <tbody>\n",
       "    <tr>\n",
       "      <th>0</th>\n",
       "      <td>COLISÃO LATERAL</td>\n",
       "      <td>838</td>\n",
       "    </tr>\n",
       "    <tr>\n",
       "      <th>1</th>\n",
       "      <td>COLISÃO TRASEIRA</td>\n",
       "      <td>483</td>\n",
       "    </tr>\n",
       "    <tr>\n",
       "      <th>2</th>\n",
       "      <td>COLISÃO FRONTAL</td>\n",
       "      <td>312</td>\n",
       "    </tr>\n",
       "    <tr>\n",
       "      <th>3</th>\n",
       "      <td>COLISÃO TRANSVERSAL</td>\n",
       "      <td>306</td>\n",
       "    </tr>\n",
       "    <tr>\n",
       "      <th>4</th>\n",
       "      <td>ATROPELAMENTO DE PESSOA</td>\n",
       "      <td>203</td>\n",
       "    </tr>\n",
       "  </tbody>\n",
       "</table>\n",
       "</div>"
      ],
      "text/plain": [
       "                      tipo  count\n",
       "0          COLISÃO LATERAL    838\n",
       "1         COLISÃO TRASEIRA    483\n",
       "2          COLISÃO FRONTAL    312\n",
       "3      COLISÃO TRANSVERSAL    306\n",
       "4  ATROPELAMENTO DE PESSOA    203"
      ]
     },
     "execution_count": 75,
     "metadata": {},
     "output_type": "execute_result"
    }
   ],
   "source": [
    "tipo_acidente = df[\"tipo\"].value_counts().head().reset_index()\n",
    "tipo_acidente"
   ]
  },
  {
   "cell_type": "code",
   "execution_count": 76,
   "metadata": {},
   "outputs": [
    {
     "data": {
      "image/png": "[encoded data removed]",
      "text/plain": [
       "<Figure size 640x480 with 1 Axes>"
      ]
     },
     "metadata": {},
     "output_type": "display_data"
    }
   ],
   "source": [
    "df[\"tipo\"].value_counts(ascending=True).plot.barh(title=\"Total de acidentes por tipo\")\n",
    "plt.xlabel(\"Total acidentes\")\n",
    "plt.ylabel(\"Tipo\");"
   ]
  },
  {
   "cell_type": "code",
   "execution_count": 77,
   "metadata": {},
   "outputs": [],
   "source": [
    "#%%time\n",
    "#df.loc[df[\"tipo\"] == \"COLISÃO LATERAL\"]"
   ]
  },
  {
   "cell_type": "code",
   "execution_count": 78,
   "metadata": {},
   "outputs": [],
   "source": [
    "lateral = df[df[\"tipo\"] == \"COLISÃO LATERAL\"]\n",
    "lateral.to_excel(\"colisao_lateral.xlsx\", index=False)  #salva arquivo em excel"
   ]
  },
  {
   "cell_type": "code",
   "execution_count": null,
   "metadata": {},
   "outputs": [],
   "source": [
    "df[(df[\"tipo\"] == \"COLISÃO LATERAL\") & (df[\"bairro\"] == \"BOA VIAGEM\")] #AND\n"
   ]
  },
  {
   "cell_type": "code",
   "execution_count": null,
   "metadata": {},
   "outputs": [],
   "source": [
    "df[(df[\"tipo\"] == \"COLISÃO LATERAL\") | (df[\"bairro\"] == \"BOA VIAGEM\")] #OU\n"
   ]
  },
  {
   "cell_type": "code",
   "execution_count": 81,
   "metadata": {},
   "outputs": [],
   "source": [
    "tipo = [\"APOIO EMLURB\", \"FISCALIZAÇÃO\", \"MONITORAMENTO\", \"PROTESTO\", \"RENDIÇÃO\"]"
   ]
  },
  {
   "cell_type": "code",
   "execution_count": null,
   "metadata": {},
   "outputs": [],
   "source": [
    "df[~df[\"tipo\"].isin(tipo)] #o \"~\" entra como negação e retorna toda a lista exceto os itens da variavel tipo"
   ]
  },
  {
   "cell_type": "code",
   "execution_count": 83,
   "metadata": {},
   "outputs": [
    {
     "data": {
      "text/html": [
       "<div>\n",
       "<style scoped>\n",
       "    .dataframe tbody tr th:only-of-type {\n",
       "        vertical-align: middle;\n",
       "    }\n",
       "\n",
       "    .dataframe tbody tr th {\n",
       "        vertical-align: top;\n",
       "    }\n",
       "\n",
       "    .dataframe thead th {\n",
       "        text-align: right;\n",
       "    }\n",
       "</style>\n",
       "<table border=\"1\" class=\"dataframe\">\n",
       "  <thead>\n",
       "    <tr style=\"text-align: right;\">\n",
       "      <th></th>\n",
       "      <th>vitimas</th>\n",
       "    </tr>\n",
       "    <tr>\n",
       "      <th>tipo</th>\n",
       "      <th></th>\n",
       "    </tr>\n",
       "  </thead>\n",
       "  <tbody>\n",
       "    <tr>\n",
       "      <th>COLISÃO LATERAL</th>\n",
       "      <td>818.0</td>\n",
       "    </tr>\n",
       "    <tr>\n",
       "      <th>COLISÃO TRASEIRA</th>\n",
       "      <td>409.0</td>\n",
       "    </tr>\n",
       "    <tr>\n",
       "      <th>COLISÃO TRANSVERSAL</th>\n",
       "      <td>334.0</td>\n",
       "    </tr>\n",
       "    <tr>\n",
       "      <th>COLISÃO FRONTAL</th>\n",
       "      <td>318.0</td>\n",
       "    </tr>\n",
       "    <tr>\n",
       "      <th>ATROPELAMENTO DE PESSOA</th>\n",
       "      <td>231.0</td>\n",
       "    </tr>\n",
       "    <tr>\n",
       "      <th>COLISÃO COM CICLISTA</th>\n",
       "      <td>142.0</td>\n",
       "    </tr>\n",
       "    <tr>\n",
       "      <th>QUEDA</th>\n",
       "      <td>88.0</td>\n",
       "    </tr>\n",
       "    <tr>\n",
       "      <th>CHOQUE</th>\n",
       "      <td>85.0</td>\n",
       "    </tr>\n",
       "    <tr>\n",
       "      <th>ENGAVETAMENTO</th>\n",
       "      <td>10.0</td>\n",
       "    </tr>\n",
       "    <tr>\n",
       "      <th>ATROPELAMENTO DE ANIMAL</th>\n",
       "      <td>8.0</td>\n",
       "    </tr>\n",
       "    <tr>\n",
       "      <th>TOMBAMENTO</th>\n",
       "      <td>8.0</td>\n",
       "    </tr>\n",
       "    <tr>\n",
       "      <th>CAPOTAMENTO</th>\n",
       "      <td>3.0</td>\n",
       "    </tr>\n",
       "    <tr>\n",
       "      <th>APOIO EMLURB</th>\n",
       "      <td>1.0</td>\n",
       "    </tr>\n",
       "    <tr>\n",
       "      <th>OUTROS</th>\n",
       "      <td>1.0</td>\n",
       "    </tr>\n",
       "    <tr>\n",
       "      <th>MONITORAMENTO</th>\n",
       "      <td>0.0</td>\n",
       "    </tr>\n",
       "    <tr>\n",
       "      <th>FISCALIZAÇÃO</th>\n",
       "      <td>0.0</td>\n",
       "    </tr>\n",
       "    <tr>\n",
       "      <th>PROTESTO</th>\n",
       "      <td>0.0</td>\n",
       "    </tr>\n",
       "    <tr>\n",
       "      <th>RENDIÇÃO</th>\n",
       "      <td>0.0</td>\n",
       "    </tr>\n",
       "  </tbody>\n",
       "</table>\n",
       "</div>"
      ],
      "text/plain": [
       "                         vitimas\n",
       "tipo                            \n",
       "COLISÃO LATERAL            818.0\n",
       "COLISÃO TRASEIRA           409.0\n",
       "COLISÃO TRANSVERSAL        334.0\n",
       "COLISÃO FRONTAL            318.0\n",
       "ATROPELAMENTO DE PESSOA    231.0\n",
       "COLISÃO COM CICLISTA       142.0\n",
       "QUEDA                       88.0\n",
       "CHOQUE                      85.0\n",
       "ENGAVETAMENTO               10.0\n",
       "ATROPELAMENTO DE ANIMAL      8.0\n",
       "TOMBAMENTO                   8.0\n",
       "CAPOTAMENTO                  3.0\n",
       "APOIO EMLURB                 1.0\n",
       "OUTROS                       1.0\n",
       "MONITORAMENTO                0.0\n",
       "FISCALIZAÇÃO                 0.0\n",
       "PROTESTO                     0.0\n",
       "RENDIÇÃO                     0.0"
      ]
     },
     "execution_count": 83,
     "metadata": {},
     "output_type": "execute_result"
    }
   ],
   "source": [
    "df.groupby(\"tipo\")[\"vitimas\"].sum().to_frame().sort_values(by=\"vitimas\", ascending=False)"
   ]
  },
  {
   "cell_type": "code",
   "execution_count": 84,
   "metadata": {},
   "outputs": [
    {
     "data": {
      "text/html": [
       "<div>\n",
       "<style scoped>\n",
       "    .dataframe tbody tr th:only-of-type {\n",
       "        vertical-align: middle;\n",
       "    }\n",
       "\n",
       "    .dataframe tbody tr th {\n",
       "        vertical-align: top;\n",
       "    }\n",
       "\n",
       "    .dataframe thead th {\n",
       "        text-align: right;\n",
       "    }\n",
       "</style>\n",
       "<table border=\"1\" class=\"dataframe\">\n",
       "  <thead>\n",
       "    <tr style=\"text-align: right;\">\n",
       "      <th></th>\n",
       "      <th>vitimasfatais</th>\n",
       "    </tr>\n",
       "    <tr>\n",
       "      <th>tipo</th>\n",
       "      <th></th>\n",
       "    </tr>\n",
       "  </thead>\n",
       "  <tbody>\n",
       "    <tr>\n",
       "      <th>CHOQUE</th>\n",
       "      <td>6.0</td>\n",
       "    </tr>\n",
       "    <tr>\n",
       "      <th>ATROPELAMENTO DE PESSOA</th>\n",
       "      <td>5.0</td>\n",
       "    </tr>\n",
       "    <tr>\n",
       "      <th>TOMBAMENTO</th>\n",
       "      <td>4.0</td>\n",
       "    </tr>\n",
       "    <tr>\n",
       "      <th>COLISÃO TRASEIRA</th>\n",
       "      <td>3.0</td>\n",
       "    </tr>\n",
       "    <tr>\n",
       "      <th>COLISÃO LATERAL</th>\n",
       "      <td>3.0</td>\n",
       "    </tr>\n",
       "    <tr>\n",
       "      <th>QUEDA</th>\n",
       "      <td>2.0</td>\n",
       "    </tr>\n",
       "    <tr>\n",
       "      <th>COLISÃO TRANSVERSAL</th>\n",
       "      <td>1.0</td>\n",
       "    </tr>\n",
       "    <tr>\n",
       "      <th>COLISÃO COM CICLISTA</th>\n",
       "      <td>1.0</td>\n",
       "    </tr>\n",
       "    <tr>\n",
       "      <th>ATROPELAMENTO DE ANIMAL</th>\n",
       "      <td>0.0</td>\n",
       "    </tr>\n",
       "    <tr>\n",
       "      <th>APOIO EMLURB</th>\n",
       "      <td>0.0</td>\n",
       "    </tr>\n",
       "  </tbody>\n",
       "</table>\n",
       "</div>"
      ],
      "text/plain": [
       "                         vitimasfatais\n",
       "tipo                                  \n",
       "CHOQUE                             6.0\n",
       "ATROPELAMENTO DE PESSOA            5.0\n",
       "TOMBAMENTO                         4.0\n",
       "COLISÃO TRASEIRA                   3.0\n",
       "COLISÃO LATERAL                    3.0\n",
       "QUEDA                              2.0\n",
       "COLISÃO TRANSVERSAL                1.0\n",
       "COLISÃO COM CICLISTA               1.0\n",
       "ATROPELAMENTO DE ANIMAL            0.0\n",
       "APOIO EMLURB                       0.0"
      ]
     },
     "execution_count": 84,
     "metadata": {},
     "output_type": "execute_result"
    }
   ],
   "source": [
    "df.groupby(\"tipo\")[\"vitimasfatais\"].sum().to_frame().sort_values(by=\"vitimasfatais\", ascending=False).head(10)\n"
   ]
  },
  {
   "cell_type": "code",
   "execution_count": 85,
   "metadata": {},
   "outputs": [
    {
     "data": {
      "text/plain": [
       "data\n",
       "8     258\n",
       "12    254\n",
       "9     253\n",
       "10    251\n",
       "11    239\n",
       "7     219\n",
       "6     217\n",
       "1     211\n",
       "5     200\n",
       "3     193\n",
       "2     188\n",
       "4     186\n",
       "Name: count, dtype: int64"
      ]
     },
     "execution_count": 85,
     "metadata": {},
     "output_type": "execute_result"
    }
   ],
   "source": [
    "(df[\"data\"].dt.month).value_counts()"
   ]
  },
  {
   "cell_type": "code",
   "execution_count": 86,
   "metadata": {},
   "outputs": [
    {
     "data": {
      "text/html": [
       "<div>\n",
       "<style scoped>\n",
       "    .dataframe tbody tr th:only-of-type {\n",
       "        vertical-align: middle;\n",
       "    }\n",
       "\n",
       "    .dataframe tbody tr th {\n",
       "        vertical-align: top;\n",
       "    }\n",
       "\n",
       "    .dataframe thead th {\n",
       "        text-align: right;\n",
       "    }\n",
       "</style>\n",
       "<table border=\"1\" class=\"dataframe\">\n",
       "  <thead>\n",
       "    <tr style=\"text-align: right;\">\n",
       "      <th></th>\n",
       "      <th>Protocolo</th>\n",
       "      <th>data</th>\n",
       "      <th>hora</th>\n",
       "      <th>natureza</th>\n",
       "      <th>situacao</th>\n",
       "      <th>bairro</th>\n",
       "      <th>endereco</th>\n",
       "      <th>numero</th>\n",
       "      <th>detalhe_endereco_acidente</th>\n",
       "      <th>complemento</th>\n",
       "      <th>bairro_cruzamento</th>\n",
       "      <th>num_semaforo</th>\n",
       "      <th>sentido_via</th>\n",
       "      <th>tipo</th>\n",
       "      <th>auto</th>\n",
       "      <th>moto</th>\n",
       "      <th>ciclom</th>\n",
       "      <th>ciclista</th>\n",
       "      <th>pedestre</th>\n",
       "      <th>onibus</th>\n",
       "      <th>caminhao</th>\n",
       "      <th>viatura</th>\n",
       "      <th>outros</th>\n",
       "      <th>vitimas</th>\n",
       "      <th>vitimasfatais</th>\n",
       "      <th>acidente_verificado</th>\n",
       "      <th>tempo_clima</th>\n",
       "      <th>situacao_semaforo</th>\n",
       "      <th>sinalizacao</th>\n",
       "      <th>condicao_via</th>\n",
       "      <th>conservacao_via</th>\n",
       "      <th>ponto_controle</th>\n",
       "      <th>situacao_placa</th>\n",
       "      <th>velocidade_max_via</th>\n",
       "      <th>mao_direcao</th>\n",
       "      <th>divisao_via1</th>\n",
       "      <th>divisao_via2</th>\n",
       "      <th>divisao_via3</th>\n",
       "      <th>Mes_acidente</th>\n",
       "    </tr>\n",
       "  </thead>\n",
       "  <tbody>\n",
       "    <tr>\n",
       "      <th>2112</th>\n",
       "      <td>202225330,0</td>\n",
       "      <td>2022-10-25</td>\n",
       "      <td>0.0</td>\n",
       "      <td>COM VÍTIMA</td>\n",
       "      <td>FINALIZADA</td>\n",
       "      <td>IMBIRIBEIRA</td>\n",
       "      <td>AV MARECHAL MASCARENHAS DE MORAES</td>\n",
       "      <td>3402,0</td>\n",
       "      <td>NaN</td>\n",
       "      <td>SAMIS CLUB / SUPERMERCADO DESCONTÃO</td>\n",
       "      <td>IMBIRIBEIRA</td>\n",
       "      <td>NaN</td>\n",
       "      <td>SUBURBIO</td>\n",
       "      <td>COLISÃO COM CICLISTA</td>\n",
       "      <td>0,0</td>\n",
       "      <td>0,0</td>\n",
       "      <td>0,0</td>\n",
       "      <td>1,0</td>\n",
       "      <td>0,0</td>\n",
       "      <td>0,0</td>\n",
       "      <td>1,0</td>\n",
       "      <td>0,0</td>\n",
       "      <td>0,0</td>\n",
       "      <td>1.0</td>\n",
       "      <td>0.0</td>\n",
       "      <td>Longo da via</td>\n",
       "      <td>Bom</td>\n",
       "      <td>Não existe</td>\n",
       "      <td>Não existente</td>\n",
       "      <td>Seca</td>\n",
       "      <td>Perfeito estado</td>\n",
       "      <td>Não existe</td>\n",
       "      <td>Não há placas</td>\n",
       "      <td>60 km/h</td>\n",
       "      <td>Única</td>\n",
       "      <td>Faixa contínua</td>\n",
       "      <td>NaN</td>\n",
       "      <td>NaN</td>\n",
       "      <td>10</td>\n",
       "    </tr>\n",
       "    <tr>\n",
       "      <th>1440</th>\n",
       "      <td>202217865,0</td>\n",
       "      <td>2022-08-05</td>\n",
       "      <td>0.0</td>\n",
       "      <td>COM VÍTIMA</td>\n",
       "      <td>FINALIZADA</td>\n",
       "      <td>IPUTINGA</td>\n",
       "      <td>AV CAXANGA</td>\n",
       "      <td>NaN</td>\n",
       "      <td>NaN</td>\n",
       "      <td>EM FRENTE AO GOLF CLUB, SENT. CIDADE</td>\n",
       "      <td>IPUTINGA</td>\n",
       "      <td>NaN</td>\n",
       "      <td>NaN</td>\n",
       "      <td>COLISÃO LATERAL</td>\n",
       "      <td>0,0</td>\n",
       "      <td>1,0</td>\n",
       "      <td>0,0</td>\n",
       "      <td>0,0</td>\n",
       "      <td>0,0</td>\n",
       "      <td>1,0</td>\n",
       "      <td>0,0</td>\n",
       "      <td>0,0</td>\n",
       "      <td>0,0</td>\n",
       "      <td>1.0</td>\n",
       "      <td>0.0</td>\n",
       "      <td>Longo da via</td>\n",
       "      <td>Chuvoso</td>\n",
       "      <td>Não existe</td>\n",
       "      <td>Perfeito estado</td>\n",
       "      <td>Molhada</td>\n",
       "      <td>Perfeito estado</td>\n",
       "      <td>Não existe</td>\n",
       "      <td>Não há placas</td>\n",
       "      <td>60 km/h</td>\n",
       "      <td>Dupla</td>\n",
       "      <td>Canteiro central</td>\n",
       "      <td>NaN</td>\n",
       "      <td>NaN</td>\n",
       "      <td>8</td>\n",
       "    </tr>\n",
       "  </tbody>\n",
       "</table>\n",
       "</div>"
      ],
      "text/plain": [
       "        Protocolo       data  hora    natureza    situacao       bairro                           endereco  numero detalhe_endereco_acidente                           complemento bairro_cruzamento num_semaforo sentido_via                  tipo auto moto ciclom ciclista pedestre onibus caminhao viatura outros  vitimas  vitimasfatais acidente_verificado tempo_clima situacao_semaforo      sinalizacao condicao_via  conservacao_via ponto_controle situacao_placa velocidade_max_via mao_direcao      divisao_via1 divisao_via2 divisao_via3  Mes_acidente\n",
       "2112  202225330,0 2022-10-25   0.0  COM VÍTIMA  FINALIZADA  IMBIRIBEIRA  AV MARECHAL MASCARENHAS DE MORAES  3402,0                       NaN   SAMIS CLUB / SUPERMERCADO DESCONTÃO       IMBIRIBEIRA          NaN    SUBURBIO  COLISÃO COM CICLISTA  0,0  0,0    0,0      1,0      0,0    0,0      1,0     0,0    0,0      1.0            0.0        Longo da via         Bom        Não existe    Não existente         Seca  Perfeito estado     Não existe  Não há placas            60 km/h       Única    Faixa contínua          NaN          NaN            10\n",
       "1440  202217865,0 2022-08-05   0.0  COM VÍTIMA  FINALIZADA     IPUTINGA                         AV CAXANGA     NaN                       NaN  EM FRENTE AO GOLF CLUB, SENT. CIDADE          IPUTINGA          NaN         NaN       COLISÃO LATERAL  0,0  1,0    0,0      0,0      0,0    1,0      0,0     0,0    0,0      1.0            0.0        Longo da via     Chuvoso        Não existe  Perfeito estado      Molhada  Perfeito estado     Não existe  Não há placas            60 km/h       Dupla  Canteiro central          NaN          NaN             8"
      ]
     },
     "execution_count": 86,
     "metadata": {},
     "output_type": "execute_result"
    }
   ],
   "source": [
    "df[\"Mes_acidente\"] = df[\"data\"].dt.month  #criando uma nova coluna\n",
    "df.sample(2)"
   ]
  },
  {
   "cell_type": "code",
   "execution_count": 87,
   "metadata": {},
   "outputs": [
    {
     "data": {
      "text/html": [
       "<div>\n",
       "<style scoped>\n",
       "    .dataframe tbody tr th:only-of-type {\n",
       "        vertical-align: middle;\n",
       "    }\n",
       "\n",
       "    .dataframe tbody tr th {\n",
       "        vertical-align: top;\n",
       "    }\n",
       "\n",
       "    .dataframe thead th {\n",
       "        text-align: right;\n",
       "    }\n",
       "</style>\n",
       "<table border=\"1\" class=\"dataframe\">\n",
       "  <thead>\n",
       "    <tr style=\"text-align: right;\">\n",
       "      <th></th>\n",
       "      <th>Mes_acidente</th>\n",
       "      <th>count</th>\n",
       "    </tr>\n",
       "  </thead>\n",
       "  <tbody>\n",
       "    <tr>\n",
       "      <th>7</th>\n",
       "      <td>1</td>\n",
       "      <td>211</td>\n",
       "    </tr>\n",
       "    <tr>\n",
       "      <th>10</th>\n",
       "      <td>2</td>\n",
       "      <td>188</td>\n",
       "    </tr>\n",
       "    <tr>\n",
       "      <th>9</th>\n",
       "      <td>3</td>\n",
       "      <td>193</td>\n",
       "    </tr>\n",
       "    <tr>\n",
       "      <th>11</th>\n",
       "      <td>4</td>\n",
       "      <td>186</td>\n",
       "    </tr>\n",
       "    <tr>\n",
       "      <th>8</th>\n",
       "      <td>5</td>\n",
       "      <td>200</td>\n",
       "    </tr>\n",
       "    <tr>\n",
       "      <th>6</th>\n",
       "      <td>6</td>\n",
       "      <td>217</td>\n",
       "    </tr>\n",
       "    <tr>\n",
       "      <th>5</th>\n",
       "      <td>7</td>\n",
       "      <td>219</td>\n",
       "    </tr>\n",
       "    <tr>\n",
       "      <th>0</th>\n",
       "      <td>8</td>\n",
       "      <td>258</td>\n",
       "    </tr>\n",
       "    <tr>\n",
       "      <th>2</th>\n",
       "      <td>9</td>\n",
       "      <td>253</td>\n",
       "    </tr>\n",
       "    <tr>\n",
       "      <th>3</th>\n",
       "      <td>10</td>\n",
       "      <td>251</td>\n",
       "    </tr>\n",
       "    <tr>\n",
       "      <th>4</th>\n",
       "      <td>11</td>\n",
       "      <td>239</td>\n",
       "    </tr>\n",
       "    <tr>\n",
       "      <th>1</th>\n",
       "      <td>12</td>\n",
       "      <td>254</td>\n",
       "    </tr>\n",
       "  </tbody>\n",
       "</table>\n",
       "</div>"
      ],
      "text/plain": [
       "    Mes_acidente  count\n",
       "7              1    211\n",
       "10             2    188\n",
       "9              3    193\n",
       "11             4    186\n",
       "8              5    200\n",
       "6              6    217\n",
       "5              7    219\n",
       "0              8    258\n",
       "2              9    253\n",
       "3             10    251\n",
       "4             11    239\n",
       "1             12    254"
      ]
     },
     "execution_count": 87,
     "metadata": {},
     "output_type": "execute_result"
    }
   ],
   "source": [
    "total_mes = df[\"Mes_acidente\"].value_counts().reset_index().sort_values(by=\"Mes_acidente\")\n",
    "total_mes\n",
    "#print(df.columns)"
   ]
  },
  {
   "cell_type": "code",
   "execution_count": 88,
   "metadata": {},
   "outputs": [
    {
     "data": {
      "application/vnd.plotly.v1+json": {
       "config": {
        "plotlyServerURL": "https://plot.ly"
       },
       "data": [
        {
         "hovertemplate": "Mes_acidente=%{x}<br>count=%{text}<extra></extra>",
         "legendgroup": "",
         "line": {
          "color": "#636efa",
          "dash": "solid"
         },
         "marker": {
          "symbol": "circle"
         },
         "mode": "lines+markers+text",
         "name": "",
         "orientation": "v",
         "showlegend": false,
         "text": [
          211,
          188,
          193,
          186,
          200,
          217,
          219,
          258,
          253,
          251,
          239,
          254
         ],
         "type": "scatter",
         "x": [
          1,
          2,
          3,
          4,
          5,
          6,
          7,
          8,
          9,
          10,
          11,
          12
         ],
         "xaxis": "x",
         "y": [
          211,
          188,
          193,
          186,
          200,
          217,
          219,
          258,
          253,
          251,
          239,
          254
         ],
         "yaxis": "y"
        }
       ],
       "layout": {
        "legend": {
         "tracegroupgap": 0
        },
        "template": {
         "data": {
          "bar": [
           {
            "error_x": {
             "color": "#f2f5fa"
            },
            "error_y": {
             "color": "#f2f5fa"
            },
            "marker": {
             "line": {
              "color": "rgb(17,17,17)",
              "width": 0.5
             },
             "pattern": {
              "fillmode": "overlay",
              "size": 10,
              "solidity": 0.2
             }
            },
            "type": "bar"
           }
          ],
          "barpolar": [
           {
            "marker": {
             "line": {
              "color": "rgb(17,17,17)",
              "width": 0.5
             },
             "pattern": {
              "fillmode": "overlay",
              "size": 10,
              "solidity": 0.2
             }
            },
            "type": "barpolar"
           }
          ],
          "carpet": [
           {
            "aaxis": {
             "endlinecolor": "#A2B1C6",
             "gridcolor": "#506784",
             "linecolor": "#506784",
             "minorgridcolor": "#506784",
             "startlinecolor": "#A2B1C6"
            },
            "baxis": {
             "endlinecolor": "#A2B1C6",
             "gridcolor": "#506784",
             "linecolor": "#506784",
             "minorgridcolor": "#506784",
             "startlinecolor": "#A2B1C6"
            },
            "type": "carpet"
           }
          ],
          "choropleth": [
           {
            "colorbar": {
             "outlinewidth": 0,
             "ticks": ""
            },
            "type": "choropleth"
           }
          ],
          "contour": [
           {
            "colorbar": {
             "outlinewidth": 0,
             "ticks": ""
            },
            "colorscale": [
             [
              0,
              "#0d0887"
             ],
             [
              0.1111111111111111,
              "#46039f"
             ],
             [
              0.2222222222222222,
              "#7201a8"
             ],
             [
              0.3333333333333333,
              "#9c179e"
             ],
             [
              0.4444444444444444,
              "#bd3786"
             ],
             [
              0.5555555555555556,
              "#d8576b"
             ],
             [
              0.6666666666666666,
              "#ed7953"
             ],
             [
              0.7777777777777778,
              "#fb9f3a"
             ],
             [
              0.8888888888888888,
              "#fdca26"
             ],
             [
              1,
              "#f0f921"
             ]
            ],
            "type": "contour"
           }
          ],
          "contourcarpet": [
           {
            "colorbar": {
             "outlinewidth": 0,
             "ticks": ""
            },
            "type": "contourcarpet"
           }
          ],
          "heatmap": [
           {
            "colorbar": {
             "outlinewidth": 0,
             "ticks": ""
            },
            "colorscale": [
             [
              0,
              "#0d0887"
             ],
             [
              0.1111111111111111,
              "#46039f"
             ],
             [
              0.2222222222222222,
              "#7201a8"
             ],
             [
              0.3333333333333333,
              "#9c179e"
             ],
             [
              0.4444444444444444,
              "#bd3786"
             ],
             [
              0.5555555555555556,
              "#d8576b"
             ],
             [
              0.6666666666666666,
              "#ed7953"
             ],
             [
              0.7777777777777778,
              "#fb9f3a"
             ],
             [
              0.8888888888888888,
              "#fdca26"
             ],
             [
              1,
              "#f0f921"
             ]
            ],
            "type": "heatmap"
           }
          ],
          "heatmapgl": [
           {
            "colorbar": {
             "outlinewidth": 0,
             "ticks": ""
            },
            "colorscale": [
             [
              0,
              "#0d0887"
             ],
             [
              0.1111111111111111,
              "#46039f"
             ],
             [
              0.2222222222222222,
              "#7201a8"
             ],
             [
              0.3333333333333333,
              "#9c179e"
             ],
             [
              0.4444444444444444,
              "#bd3786"
             ],
             [
              0.5555555555555556,
              "#d8576b"
             ],
             [
              0.6666666666666666,
              "#ed7953"
             ],
             [
              0.7777777777777778,
              "#fb9f3a"
             ],
             [
              0.8888888888888888,
              "#fdca26"
             ],
             [
              1,
              "#f0f921"
             ]
            ],
            "type": "heatmapgl"
           }
          ],
          "histogram": [
           {
            "marker": {
             "pattern": {
              "fillmode": "overlay",
              "size": 10,
              "solidity": 0.2
             }
            },
            "type": "histogram"
           }
          ],
          "histogram2d": [
           {
            "colorbar": {
             "outlinewidth": 0,
             "ticks": ""
            },
            "colorscale": [
             [
              0,
              "#0d0887"
             ],
             [
              0.1111111111111111,
              "#46039f"
             ],
             [
              0.2222222222222222,
              "#7201a8"
             ],
             [
              0.3333333333333333,
              "#9c179e"
             ],
             [
              0.4444444444444444,
              "#bd3786"
             ],
             [
              0.5555555555555556,
              "#d8576b"
             ],
             [
              0.6666666666666666,
              "#ed7953"
             ],
             [
              0.7777777777777778,
              "#fb9f3a"
             ],
             [
              0.8888888888888888,
              "#fdca26"
             ],
             [
              1,
              "#f0f921"
             ]
            ],
            "type": "histogram2d"
           }
          ],
          "histogram2dcontour": [
           {
            "colorbar": {
             "outlinewidth": 0,
             "ticks": ""
            },
            "colorscale": [
             [
              0,
              "#0d0887"
             ],
             [
              0.1111111111111111,
              "#46039f"
             ],
             [
              0.2222222222222222,
              "#7201a8"
             ],
             [
              0.3333333333333333,
              "#9c179e"
             ],
             [
              0.4444444444444444,
              "#bd3786"
             ],
             [
              0.5555555555555556,
              "#d8576b"
             ],
             [
              0.6666666666666666,
              "#ed7953"
             ],
             [
              0.7777777777777778,
              "#fb9f3a"
             ],
             [
              0.8888888888888888,
              "#fdca26"
             ],
             [
              1,
              "#f0f921"
             ]
            ],
            "type": "histogram2dcontour"
           }
          ],
          "mesh3d": [
           {
            "colorbar": {
             "outlinewidth": 0,
             "ticks": ""
            },
            "type": "mesh3d"
           }
          ],
          "parcoords": [
           {
            "line": {
             "colorbar": {
              "outlinewidth": 0,
              "ticks": ""
             }
            },
            "type": "parcoords"
           }
          ],
          "pie": [
           {
            "automargin": true,
            "type": "pie"
           }
          ],
          "scatter": [
           {
            "marker": {
             "line": {
              "color": "#283442"
             }
            },
            "type": "scatter"
           }
          ],
          "scatter3d": [
           {
            "line": {
             "colorbar": {
              "outlinewidth": 0,
              "ticks": ""
             }
            },
            "marker": {
             "colorbar": {
              "outlinewidth": 0,
              "ticks": ""
             }
            },
            "type": "scatter3d"
           }
          ],
          "scattercarpet": [
           {
            "marker": {
             "colorbar": {
              "outlinewidth": 0,
              "ticks": ""
             }
            },
            "type": "scattercarpet"
           }
          ],
          "scattergeo": [
           {
            "marker": {
             "colorbar": {
              "outlinewidth": 0,
              "ticks": ""
             }
            },
            "type": "scattergeo"
           }
          ],
          "scattergl": [
           {
            "marker": {
             "line": {
              "color": "#283442"
             }
            },
            "type": "scattergl"
           }
          ],
          "scattermapbox": [
           {
            "marker": {
             "colorbar": {
              "outlinewidth": 0,
              "ticks": ""
             }
            },
            "type": "scattermapbox"
           }
          ],
          "scatterpolar": [
           {
            "marker": {
             "colorbar": {
              "outlinewidth": 0,
              "ticks": ""
             }
            },
            "type": "scatterpolar"
           }
          ],
          "scatterpolargl": [
           {
            "marker": {
             "colorbar": {
              "outlinewidth": 0,
              "ticks": ""
             }
            },
            "type": "scatterpolargl"
           }
          ],
          "scatterternary": [
           {
            "marker": {
             "colorbar": {
              "outlinewidth": 0,
              "ticks": ""
             }
            },
            "type": "scatterternary"
           }
          ],
          "surface": [
           {
            "colorbar": {
             "outlinewidth": 0,
             "ticks": ""
            },
            "colorscale": [
             [
              0,
              "#0d0887"
             ],
             [
              0.1111111111111111,
              "#46039f"
             ],
             [
              0.2222222222222222,
              "#7201a8"
             ],
             [
              0.3333333333333333,
              "#9c179e"
             ],
             [
              0.4444444444444444,
              "#bd3786"
             ],
             [
              0.5555555555555556,
              "#d8576b"
             ],
             [
              0.6666666666666666,
              "#ed7953"
             ],
             [
              0.7777777777777778,
              "#fb9f3a"
             ],
             [
              0.8888888888888888,
              "#fdca26"
             ],
             [
              1,
              "#f0f921"
             ]
            ],
            "type": "surface"
           }
          ],
          "table": [
           {
            "cells": {
             "fill": {
              "color": "#506784"
             },
             "line": {
              "color": "rgb(17,17,17)"
             }
            },
            "header": {
             "fill": {
              "color": "#2a3f5f"
             },
             "line": {
              "color": "rgb(17,17,17)"
             }
            },
            "type": "table"
           }
          ]
         },
         "layout": {
          "annotationdefaults": {
           "arrowcolor": "#f2f5fa",
           "arrowhead": 0,
           "arrowwidth": 1
          },
          "autotypenumbers": "strict",
          "coloraxis": {
           "colorbar": {
            "outlinewidth": 0,
            "ticks": ""
           }
          },
          "colorscale": {
           "diverging": [
            [
             0,
             "#8e0152"
            ],
            [
             0.1,
             "#c51b7d"
            ],
            [
             0.2,
             "#de77ae"
            ],
            [
             0.3,
             "#f1b6da"
            ],
            [
             0.4,
             "#fde0ef"
            ],
            [
             0.5,
             "#f7f7f7"
            ],
            [
             0.6,
             "#e6f5d0"
            ],
            [
             0.7,
             "#b8e186"
            ],
            [
             0.8,
             "#7fbc41"
            ],
            [
             0.9,
             "#4d9221"
            ],
            [
             1,
             "#276419"
            ]
           ],
           "sequential": [
            [
             0,
             "#0d0887"
            ],
            [
             0.1111111111111111,
             "#46039f"
            ],
            [
             0.2222222222222222,
             "#7201a8"
            ],
            [
             0.3333333333333333,
             "#9c179e"
            ],
            [
             0.4444444444444444,
             "#bd3786"
            ],
            [
             0.5555555555555556,
             "#d8576b"
            ],
            [
             0.6666666666666666,
             "#ed7953"
            ],
            [
             0.7777777777777778,
             "#fb9f3a"
            ],
            [
             0.8888888888888888,
             "#fdca26"
            ],
            [
             1,
             "#f0f921"
            ]
           ],
           "sequentialminus": [
            [
             0,
             "#0d0887"
            ],
            [
             0.1111111111111111,
             "#46039f"
            ],
            [
             0.2222222222222222,
             "#7201a8"
            ],
            [
             0.3333333333333333,
             "#9c179e"
            ],
            [
             0.4444444444444444,
             "#bd3786"
            ],
            [
             0.5555555555555556,
             "#d8576b"
            ],
            [
             0.6666666666666666,
             "#ed7953"
            ],
            [
             0.7777777777777778,
             "#fb9f3a"
            ],
            [
             0.8888888888888888,
             "#fdca26"
            ],
            [
             1,
             "#f0f921"
            ]
           ]
          },
          "colorway": [
           "#636efa",
           "#EF553B",
           "#00cc96",
           "#ab63fa",
           "#FFA15A",
           "#19d3f3",
           "#FF6692",
           "#B6E880",
           "#FF97FF",
           "#FECB52"
          ],
          "font": {
           "color": "#f2f5fa"
          },
          "geo": {
           "bgcolor": "rgb(17,17,17)",
           "lakecolor": "rgb(17,17,17)",
           "landcolor": "rgb(17,17,17)",
           "showlakes": true,
           "showland": true,
           "subunitcolor": "#506784"
          },
          "hoverlabel": {
           "align": "left"
          },
          "hovermode": "closest",
          "mapbox": {
           "style": "dark"
          },
          "paper_bgcolor": "rgb(17,17,17)",
          "plot_bgcolor": "rgb(17,17,17)",
          "polar": {
           "angularaxis": {
            "gridcolor": "#506784",
            "linecolor": "#506784",
            "ticks": ""
           },
           "bgcolor": "rgb(17,17,17)",
           "radialaxis": {
            "gridcolor": "#506784",
            "linecolor": "#506784",
            "ticks": ""
           }
          },
          "scene": {
           "xaxis": {
            "backgroundcolor": "rgb(17,17,17)",
            "gridcolor": "#506784",
            "gridwidth": 2,
            "linecolor": "#506784",
            "showbackground": true,
            "ticks": "",
            "zerolinecolor": "#C8D4E3"
           },
           "yaxis": {
            "backgroundcolor": "rgb(17,17,17)",
            "gridcolor": "#506784",
            "gridwidth": 2,
            "linecolor": "#506784",
            "showbackground": true,
            "ticks": "",
            "zerolinecolor": "#C8D4E3"
           },
           "zaxis": {
            "backgroundcolor": "rgb(17,17,17)",
            "gridcolor": "#506784",
            "gridwidth": 2,
            "linecolor": "#506784",
            "showbackground": true,
            "ticks": "",
            "zerolinecolor": "#C8D4E3"
           }
          },
          "shapedefaults": {
           "line": {
            "color": "#f2f5fa"
           }
          },
          "sliderdefaults": {
           "bgcolor": "#C8D4E3",
           "bordercolor": "rgb(17,17,17)",
           "borderwidth": 1,
           "tickwidth": 0
          },
          "ternary": {
           "aaxis": {
            "gridcolor": "#506784",
            "linecolor": "#506784",
            "ticks": ""
           },
           "baxis": {
            "gridcolor": "#506784",
            "linecolor": "#506784",
            "ticks": ""
           },
           "bgcolor": "rgb(17,17,17)",
           "caxis": {
            "gridcolor": "#506784",
            "linecolor": "#506784",
            "ticks": ""
           }
          },
          "title": {
           "x": 0.05
          },
          "updatemenudefaults": {
           "bgcolor": "#506784",
           "borderwidth": 0
          },
          "xaxis": {
           "automargin": true,
           "gridcolor": "#283442",
           "linecolor": "#506784",
           "ticks": "",
           "title": {
            "standoff": 15
           },
           "zerolinecolor": "#283442",
           "zerolinewidth": 2
          },
          "yaxis": {
           "automargin": true,
           "gridcolor": "#283442",
           "linecolor": "#506784",
           "ticks": "",
           "title": {
            "standoff": 15
           },
           "zerolinecolor": "#283442",
           "zerolinewidth": 2
          }
         }
        },
        "title": {
         "text": "Total de acidentes por mês."
        },
        "xaxis": {
         "anchor": "y",
         "domain": [
          0,
          1
         ],
         "title": {
          "text": "Mes_acidente"
         }
        },
        "yaxis": {
         "anchor": "x",
         "domain": [
          0,
          1
         ],
         "title": {
          "text": "count"
         }
        }
       }
      }
     },
     "metadata": {},
     "output_type": "display_data"
    }
   ],
   "source": [
    "fig = px.line(total_mes, x=\"Mes_acidente\", y=\"count\", title=\"Total de acidentes por mês.\",\n",
    "               markers=True, template=\"plotly_dark\", text=\"count\")\n",
    "fig.show()"
   ]
  },
  {
   "cell_type": "code",
   "execution_count": 89,
   "metadata": {},
   "outputs": [],
   "source": [
    "def tevevitima(coluna):\n",
    "    if coluna == 0.0:\n",
    "        return \"Não houve vítima.\"\n",
    "    else:\n",
    "        return \"Houve vítima\""
   ]
  },
  {
   "cell_type": "code",
   "execution_count": 90,
   "metadata": {},
   "outputs": [],
   "source": [
    "#df[\"Teve_vitima\"] = \"\"\n",
    "\n",
    "#for index, row in df.iterrows():\n",
    "#    if row[\"vitimas\"] == 0:\n",
    "#        df.at[index, \"Teve_vitima\"] =\"Não houve vitima\"\n",
    "#    else:\n",
    "#        df.at[index, \"Teve_vitima\"] =\"Houve vitima\"\n",
    "\n",
    "#forma alternativa de incluir a função"
   ]
  },
  {
   "cell_type": "code",
   "execution_count": 91,
   "metadata": {},
   "outputs": [],
   "source": [
    "df[\"Teve_vitima\"] = df[\"vitimas\"].apply(tevevitima) #criando nova coluna e usando a função"
   ]
  },
  {
   "cell_type": "code",
   "execution_count": 92,
   "metadata": {},
   "outputs": [
    {
     "data": {
      "text/html": [
       "<div>\n",
       "<style scoped>\n",
       "    .dataframe tbody tr th:only-of-type {\n",
       "        vertical-align: middle;\n",
       "    }\n",
       "\n",
       "    .dataframe tbody tr th {\n",
       "        vertical-align: top;\n",
       "    }\n",
       "\n",
       "    .dataframe thead th {\n",
       "        text-align: right;\n",
       "    }\n",
       "</style>\n",
       "<table border=\"1\" class=\"dataframe\">\n",
       "  <thead>\n",
       "    <tr style=\"text-align: right;\">\n",
       "      <th></th>\n",
       "      <th>Protocolo</th>\n",
       "      <th>data</th>\n",
       "      <th>hora</th>\n",
       "      <th>natureza</th>\n",
       "      <th>situacao</th>\n",
       "      <th>bairro</th>\n",
       "      <th>endereco</th>\n",
       "      <th>numero</th>\n",
       "      <th>detalhe_endereco_acidente</th>\n",
       "      <th>complemento</th>\n",
       "      <th>bairro_cruzamento</th>\n",
       "      <th>num_semaforo</th>\n",
       "      <th>sentido_via</th>\n",
       "      <th>tipo</th>\n",
       "      <th>auto</th>\n",
       "      <th>moto</th>\n",
       "      <th>ciclom</th>\n",
       "      <th>ciclista</th>\n",
       "      <th>pedestre</th>\n",
       "      <th>onibus</th>\n",
       "      <th>caminhao</th>\n",
       "      <th>viatura</th>\n",
       "      <th>outros</th>\n",
       "      <th>vitimas</th>\n",
       "      <th>vitimasfatais</th>\n",
       "      <th>acidente_verificado</th>\n",
       "      <th>tempo_clima</th>\n",
       "      <th>situacao_semaforo</th>\n",
       "      <th>sinalizacao</th>\n",
       "      <th>condicao_via</th>\n",
       "      <th>conservacao_via</th>\n",
       "      <th>ponto_controle</th>\n",
       "      <th>situacao_placa</th>\n",
       "      <th>velocidade_max_via</th>\n",
       "      <th>mao_direcao</th>\n",
       "      <th>divisao_via1</th>\n",
       "      <th>divisao_via2</th>\n",
       "      <th>divisao_via3</th>\n",
       "      <th>Mes_acidente</th>\n",
       "      <th>Teve_vitima</th>\n",
       "    </tr>\n",
       "  </thead>\n",
       "  <tbody>\n",
       "    <tr>\n",
       "      <th>2225</th>\n",
       "      <td>202226463,0</td>\n",
       "      <td>2022-11-07</td>\n",
       "      <td>0.0</td>\n",
       "      <td>COM VÍTIMA</td>\n",
       "      <td>CANCELADA</td>\n",
       "      <td>BEBERIBE</td>\n",
       "      <td>AV BEBERIBE</td>\n",
       "      <td>487,0</td>\n",
       "      <td>NaN</td>\n",
       "      <td>NaN</td>\n",
       "      <td>BEBERIBE</td>\n",
       "      <td>NaN</td>\n",
       "      <td>NaN</td>\n",
       "      <td>COLISÃO LATERAL</td>\n",
       "      <td>1,0</td>\n",
       "      <td>1,0</td>\n",
       "      <td>0,0</td>\n",
       "      <td>0,0</td>\n",
       "      <td>0,0</td>\n",
       "      <td>0,0</td>\n",
       "      <td>0,0</td>\n",
       "      <td>0,0</td>\n",
       "      <td>0,0</td>\n",
       "      <td>1.0</td>\n",
       "      <td>0.0</td>\n",
       "      <td>NaN</td>\n",
       "      <td>NaN</td>\n",
       "      <td>NaN</td>\n",
       "      <td>NaN</td>\n",
       "      <td>NaN</td>\n",
       "      <td>NaN</td>\n",
       "      <td>NaN</td>\n",
       "      <td>NaN</td>\n",
       "      <td>NaN</td>\n",
       "      <td>NaN</td>\n",
       "      <td>NaN</td>\n",
       "      <td>NaN</td>\n",
       "      <td>NaN</td>\n",
       "      <td>11</td>\n",
       "      <td>Houve vítima</td>\n",
       "    </tr>\n",
       "    <tr>\n",
       "      <th>2256</th>\n",
       "      <td>202226832,0</td>\n",
       "      <td>2022-11-11</td>\n",
       "      <td>0.0</td>\n",
       "      <td>COM VÍTIMA</td>\n",
       "      <td>FINALIZADA</td>\n",
       "      <td>DOIS UNIDOS</td>\n",
       "      <td>AV HILDEBRANDO DE VASCONCELOS</td>\n",
       "      <td>2692,0</td>\n",
       "      <td>NaN</td>\n",
       "      <td>PROXIMO A QURADA DE DOIS UNIDOS</td>\n",
       "      <td>DOIS UNIDOS</td>\n",
       "      <td>NaN</td>\n",
       "      <td>SUBURBIO</td>\n",
       "      <td>COLISÃO TRASEIRA</td>\n",
       "      <td>1,0</td>\n",
       "      <td>1,0</td>\n",
       "      <td>0,0</td>\n",
       "      <td>0,0</td>\n",
       "      <td>0,0</td>\n",
       "      <td>0,0</td>\n",
       "      <td>0,0</td>\n",
       "      <td>0,0</td>\n",
       "      <td>0,0</td>\n",
       "      <td>1.0</td>\n",
       "      <td>0.0</td>\n",
       "      <td>Longo da via</td>\n",
       "      <td>Bom</td>\n",
       "      <td>Não existe</td>\n",
       "      <td>Não existente</td>\n",
       "      <td>Seca</td>\n",
       "      <td>Perfeito estado</td>\n",
       "      <td>Não existe</td>\n",
       "      <td>Não há placas</td>\n",
       "      <td>NaN</td>\n",
       "      <td>Dupla</td>\n",
       "      <td>Não existe</td>\n",
       "      <td>NaN</td>\n",
       "      <td>NaN</td>\n",
       "      <td>11</td>\n",
       "      <td>Houve vítima</td>\n",
       "    </tr>\n",
       "  </tbody>\n",
       "</table>\n",
       "</div>"
      ],
      "text/plain": [
       "        Protocolo       data  hora    natureza    situacao       bairro                       endereco  numero detalhe_endereco_acidente                      complemento bairro_cruzamento num_semaforo sentido_via              tipo auto moto ciclom ciclista pedestre onibus caminhao viatura outros  vitimas  vitimasfatais acidente_verificado tempo_clima situacao_semaforo    sinalizacao condicao_via  conservacao_via ponto_controle situacao_placa velocidade_max_via mao_direcao divisao_via1 divisao_via2 divisao_via3  Mes_acidente   Teve_vitima\n",
       "2225  202226463,0 2022-11-07   0.0  COM VÍTIMA   CANCELADA     BEBERIBE                    AV BEBERIBE   487,0                       NaN                              NaN          BEBERIBE          NaN         NaN   COLISÃO LATERAL  1,0  1,0    0,0      0,0      0,0    0,0      0,0     0,0    0,0      1.0            0.0                 NaN         NaN               NaN            NaN          NaN              NaN            NaN            NaN                NaN         NaN          NaN          NaN          NaN            11  Houve vítima\n",
       "2256  202226832,0 2022-11-11   0.0  COM VÍTIMA  FINALIZADA  DOIS UNIDOS  AV HILDEBRANDO DE VASCONCELOS  2692,0                       NaN  PROXIMO A QURADA DE DOIS UNIDOS       DOIS UNIDOS          NaN    SUBURBIO  COLISÃO TRASEIRA  1,0  1,0    0,0      0,0      0,0    0,0      0,0     0,0    0,0      1.0            0.0        Longo da via         Bom        Não existe  Não existente         Seca  Perfeito estado     Não existe  Não há placas                NaN       Dupla   Não existe          NaN          NaN            11  Houve vítima"
      ]
     },
     "execution_count": 92,
     "metadata": {},
     "output_type": "execute_result"
    }
   ],
   "source": [
    "df.sample(2)"
   ]
  },
  {
   "cell_type": "code",
   "execution_count": 93,
   "metadata": {},
   "outputs": [],
   "source": [
    "def mes(coluna):\n",
    "    if coluna == 1:\n",
    "        return \"Janeiro\"\n",
    "    elif coluna == 2:\n",
    "        return \"Fevereiro\"\n",
    "    elif coluna == 3:\n",
    "        return \"Março\"\n",
    "    elif coluna == 4:\n",
    "        return \"Abril\"\n",
    "    elif coluna == 5:\n",
    "        return \"Maio\"\n",
    "    elif coluna == 6:\n",
    "        return \"Junho\"\n",
    "    elif coluna == 7:\n",
    "        return \"Julho\"\n",
    "    elif coluna == 8:\n",
    "        return \"Agosto\"\n",
    "    elif coluna == 9:\n",
    "        return \"Setembro\"\n",
    "    elif coluna == 10:\n",
    "        return \"Outubro\"\n",
    "    elif coluna == 11:\n",
    "        return \"Novembro\"\n",
    "    elif coluna == 12:\n",
    "        return \"Dezembro\"\n",
    "    else:\n",
    "        return \"não é mês\"\n",
    "    "
   ]
  },
  {
   "cell_type": "code",
   "execution_count": 94,
   "metadata": {},
   "outputs": [
    {
     "data": {
      "text/html": [
       "<div>\n",
       "<style scoped>\n",
       "    .dataframe tbody tr th:only-of-type {\n",
       "        vertical-align: middle;\n",
       "    }\n",
       "\n",
       "    .dataframe tbody tr th {\n",
       "        vertical-align: top;\n",
       "    }\n",
       "\n",
       "    .dataframe thead th {\n",
       "        text-align: right;\n",
       "    }\n",
       "</style>\n",
       "<table border=\"1\" class=\"dataframe\">\n",
       "  <thead>\n",
       "    <tr style=\"text-align: right;\">\n",
       "      <th></th>\n",
       "      <th>Protocolo</th>\n",
       "      <th>data</th>\n",
       "      <th>hora</th>\n",
       "      <th>natureza</th>\n",
       "      <th>situacao</th>\n",
       "      <th>bairro</th>\n",
       "      <th>endereco</th>\n",
       "      <th>numero</th>\n",
       "      <th>detalhe_endereco_acidente</th>\n",
       "      <th>complemento</th>\n",
       "      <th>bairro_cruzamento</th>\n",
       "      <th>num_semaforo</th>\n",
       "      <th>sentido_via</th>\n",
       "      <th>tipo</th>\n",
       "      <th>auto</th>\n",
       "      <th>moto</th>\n",
       "      <th>ciclom</th>\n",
       "      <th>ciclista</th>\n",
       "      <th>pedestre</th>\n",
       "      <th>onibus</th>\n",
       "      <th>caminhao</th>\n",
       "      <th>viatura</th>\n",
       "      <th>outros</th>\n",
       "      <th>vitimas</th>\n",
       "      <th>vitimasfatais</th>\n",
       "      <th>acidente_verificado</th>\n",
       "      <th>tempo_clima</th>\n",
       "      <th>situacao_semaforo</th>\n",
       "      <th>sinalizacao</th>\n",
       "      <th>condicao_via</th>\n",
       "      <th>conservacao_via</th>\n",
       "      <th>ponto_controle</th>\n",
       "      <th>situacao_placa</th>\n",
       "      <th>velocidade_max_via</th>\n",
       "      <th>mao_direcao</th>\n",
       "      <th>divisao_via1</th>\n",
       "      <th>divisao_via2</th>\n",
       "      <th>divisao_via3</th>\n",
       "      <th>Mes_acidente</th>\n",
       "      <th>Teve_vitima</th>\n",
       "      <th>Mes_acidente1</th>\n",
       "    </tr>\n",
       "  </thead>\n",
       "  <tbody>\n",
       "    <tr>\n",
       "      <th>1108</th>\n",
       "      <td>202214000,0</td>\n",
       "      <td>2022-06-18</td>\n",
       "      <td>0.0</td>\n",
       "      <td>COM VÍTIMA</td>\n",
       "      <td>FINALIZADA</td>\n",
       "      <td>IPUTINGA</td>\n",
       "      <td>RUA BOM PASTOR</td>\n",
       "      <td>126,0</td>\n",
       "      <td>RUA COMENDADOR ALVARES DE CARVALHO</td>\n",
       "      <td>EDIFÍCIO PRAÇA DOS CARVALHOS</td>\n",
       "      <td>IPUTINGA</td>\n",
       "      <td>254,0</td>\n",
       "      <td>CIDADE</td>\n",
       "      <td>COLISÃO LATERAL</td>\n",
       "      <td>1,0</td>\n",
       "      <td>1,0</td>\n",
       "      <td>0,0</td>\n",
       "      <td>0,0</td>\n",
       "      <td>0,0</td>\n",
       "      <td>0,0</td>\n",
       "      <td>0,0</td>\n",
       "      <td>0,0</td>\n",
       "      <td>0,0</td>\n",
       "      <td>1.0</td>\n",
       "      <td>0.0</td>\n",
       "      <td>Cruzamento</td>\n",
       "      <td>Bom</td>\n",
       "      <td>Sem defeito</td>\n",
       "      <td>Perfeito estado</td>\n",
       "      <td>Seca</td>\n",
       "      <td>Perfeito estado</td>\n",
       "      <td>Faixa de pedestre</td>\n",
       "      <td>R-6a</td>\n",
       "      <td>NaN</td>\n",
       "      <td>Dupla</td>\n",
       "      <td>Faixa contínua</td>\n",
       "      <td>Faixa seccionada</td>\n",
       "      <td>NaN</td>\n",
       "      <td>6</td>\n",
       "      <td>Houve vítima</td>\n",
       "      <td>Junho</td>\n",
       "    </tr>\n",
       "    <tr>\n",
       "      <th>1565</th>\n",
       "      <td>202219432,0</td>\n",
       "      <td>2022-08-21</td>\n",
       "      <td>0.0</td>\n",
       "      <td>COM VÍTIMA</td>\n",
       "      <td>FINALIZADA</td>\n",
       "      <td>PARNAMIRIM</td>\n",
       "      <td>RUA SEBASTIAO MALTA ARCOVERDE</td>\n",
       "      <td>223,0</td>\n",
       "      <td>AV PARNAMIRIM</td>\n",
       "      <td>EDF. GENIPABU</td>\n",
       "      <td>PARNAMIRIM</td>\n",
       "      <td>NaN</td>\n",
       "      <td>NaN</td>\n",
       "      <td>COLISÃO TRASEIRA</td>\n",
       "      <td>5,0</td>\n",
       "      <td>0,0</td>\n",
       "      <td>0,0</td>\n",
       "      <td>0,0</td>\n",
       "      <td>0,0</td>\n",
       "      <td>0,0</td>\n",
       "      <td>0,0</td>\n",
       "      <td>0,0</td>\n",
       "      <td>0,0</td>\n",
       "      <td>1.0</td>\n",
       "      <td>0.0</td>\n",
       "      <td>Longo da via</td>\n",
       "      <td>Bom</td>\n",
       "      <td>Sem defeito</td>\n",
       "      <td>Perfeito estado</td>\n",
       "      <td>Seca</td>\n",
       "      <td>Perfeito estado</td>\n",
       "      <td>Faixa de retenção</td>\n",
       "      <td>Não há placas</td>\n",
       "      <td>NaN</td>\n",
       "      <td>Única</td>\n",
       "      <td>Faixa contínua</td>\n",
       "      <td>NaN</td>\n",
       "      <td>NaN</td>\n",
       "      <td>8</td>\n",
       "      <td>Houve vítima</td>\n",
       "      <td>Agosto</td>\n",
       "    </tr>\n",
       "    <tr>\n",
       "      <th>2155</th>\n",
       "      <td>202225719,0</td>\n",
       "      <td>2022-10-29</td>\n",
       "      <td>0.0</td>\n",
       "      <td>COM VÍTIMA</td>\n",
       "      <td>FINALIZADA</td>\n",
       "      <td>SANTO ANTÔNIO</td>\n",
       "      <td>AV GUARARAPES</td>\n",
       "      <td>NaN</td>\n",
       "      <td>RUA DO SOL</td>\n",
       "      <td>EM FRENTE AO CORREIOS</td>\n",
       "      <td>SANTO ANTÔNIO</td>\n",
       "      <td>14,0</td>\n",
       "      <td>NaN</td>\n",
       "      <td>COLISÃO LATERAL</td>\n",
       "      <td>1,0</td>\n",
       "      <td>1,0</td>\n",
       "      <td>0,0</td>\n",
       "      <td>0,0</td>\n",
       "      <td>0,0</td>\n",
       "      <td>0,0</td>\n",
       "      <td>0,0</td>\n",
       "      <td>0,0</td>\n",
       "      <td>0,0</td>\n",
       "      <td>1.0</td>\n",
       "      <td>0.0</td>\n",
       "      <td>Cruzamento</td>\n",
       "      <td>Bom</td>\n",
       "      <td>Sem defeito</td>\n",
       "      <td>Perfeito estado</td>\n",
       "      <td>Seca</td>\n",
       "      <td>Perfeito estado</td>\n",
       "      <td>Faixa de pedestre</td>\n",
       "      <td>Não há placas</td>\n",
       "      <td>40 km/h</td>\n",
       "      <td>Dupla</td>\n",
       "      <td>Não existe</td>\n",
       "      <td>NaN</td>\n",
       "      <td>NaN</td>\n",
       "      <td>10</td>\n",
       "      <td>Houve vítima</td>\n",
       "      <td>Outubro</td>\n",
       "    </tr>\n",
       "    <tr>\n",
       "      <th>109</th>\n",
       "      <td>202201139,0</td>\n",
       "      <td>2022-01-17</td>\n",
       "      <td>0.0</td>\n",
       "      <td>COM VÍTIMA</td>\n",
       "      <td>FINALIZADA</td>\n",
       "      <td>IMBIRIBEIRA</td>\n",
       "      <td>RUA ITALIA</td>\n",
       "      <td>NaN</td>\n",
       "      <td>RUA ARQUITETO LUIZ NUNES</td>\n",
       "      <td>AO LADO DO SUPERMERCADO ASSAI</td>\n",
       "      <td>IMBIRIBEIRA</td>\n",
       "      <td>NaN</td>\n",
       "      <td>NaN</td>\n",
       "      <td>COLISÃO FRONTAL</td>\n",
       "      <td>0,0</td>\n",
       "      <td>0,0</td>\n",
       "      <td>1,0</td>\n",
       "      <td>0,0</td>\n",
       "      <td>0,0</td>\n",
       "      <td>1,0</td>\n",
       "      <td>0,0</td>\n",
       "      <td>0,0</td>\n",
       "      <td>0,0</td>\n",
       "      <td>1.0</td>\n",
       "      <td>0.0</td>\n",
       "      <td>Cruzamento</td>\n",
       "      <td>Bom</td>\n",
       "      <td>Não existe</td>\n",
       "      <td>Incompleta</td>\n",
       "      <td>Seca</td>\n",
       "      <td>Perfeito estado</td>\n",
       "      <td>Não existe</td>\n",
       "      <td>Placas \"Pare\"</td>\n",
       "      <td>NaN</td>\n",
       "      <td>Dupla</td>\n",
       "      <td>Não existe</td>\n",
       "      <td>NaN</td>\n",
       "      <td>NaN</td>\n",
       "      <td>1</td>\n",
       "      <td>Houve vítima</td>\n",
       "      <td>Janeiro</td>\n",
       "    </tr>\n",
       "    <tr>\n",
       "      <th>2261</th>\n",
       "      <td>202226885,0</td>\n",
       "      <td>2022-11-12</td>\n",
       "      <td>0.0</td>\n",
       "      <td>SEM VÍTIMA</td>\n",
       "      <td>FINALIZADA</td>\n",
       "      <td>MADALENA</td>\n",
       "      <td>RUA JOAO IVO DA SILVA</td>\n",
       "      <td>232,0</td>\n",
       "      <td>RUA RICARDO SALAZAR</td>\n",
       "      <td>NaN</td>\n",
       "      <td>MADALENA</td>\n",
       "      <td>NaN</td>\n",
       "      <td>SUBURBIO</td>\n",
       "      <td>TOMBAMENTO</td>\n",
       "      <td>1,0</td>\n",
       "      <td>0,0</td>\n",
       "      <td>0,0</td>\n",
       "      <td>0,0</td>\n",
       "      <td>0,0</td>\n",
       "      <td>0,0</td>\n",
       "      <td>0,0</td>\n",
       "      <td>0,0</td>\n",
       "      <td>0,0</td>\n",
       "      <td>0.0</td>\n",
       "      <td>0.0</td>\n",
       "      <td>NaN</td>\n",
       "      <td>NaN</td>\n",
       "      <td>NaN</td>\n",
       "      <td>NaN</td>\n",
       "      <td>NaN</td>\n",
       "      <td>NaN</td>\n",
       "      <td>NaN</td>\n",
       "      <td>NaN</td>\n",
       "      <td>NaN</td>\n",
       "      <td>NaN</td>\n",
       "      <td>NaN</td>\n",
       "      <td>NaN</td>\n",
       "      <td>NaN</td>\n",
       "      <td>11</td>\n",
       "      <td>Não houve vítima.</td>\n",
       "      <td>Novembro</td>\n",
       "    </tr>\n",
       "  </tbody>\n",
       "</table>\n",
       "</div>"
      ],
      "text/plain": [
       "        Protocolo       data  hora    natureza    situacao         bairro                       endereco numero           detalhe_endereco_acidente                    complemento bairro_cruzamento num_semaforo sentido_via              tipo auto moto ciclom ciclista pedestre onibus caminhao viatura outros  vitimas  vitimasfatais acidente_verificado tempo_clima situacao_semaforo      sinalizacao condicao_via  conservacao_via     ponto_controle situacao_placa velocidade_max_via mao_direcao    divisao_via1      divisao_via2 divisao_via3  Mes_acidente        Teve_vitima Mes_acidente1\n",
       "1108  202214000,0 2022-06-18   0.0  COM VÍTIMA  FINALIZADA       IPUTINGA                 RUA BOM PASTOR  126,0  RUA COMENDADOR ALVARES DE CARVALHO   EDIFÍCIO PRAÇA DOS CARVALHOS          IPUTINGA        254,0      CIDADE   COLISÃO LATERAL  1,0  1,0    0,0      0,0      0,0    0,0      0,0     0,0    0,0      1.0            0.0          Cruzamento         Bom       Sem defeito  Perfeito estado         Seca  Perfeito estado  Faixa de pedestre           R-6a                NaN       Dupla  Faixa contínua  Faixa seccionada          NaN             6       Houve vítima         Junho\n",
       "1565  202219432,0 2022-08-21   0.0  COM VÍTIMA  FINALIZADA     PARNAMIRIM  RUA SEBASTIAO MALTA ARCOVERDE  223,0                       AV PARNAMIRIM                  EDF. GENIPABU        PARNAMIRIM          NaN         NaN  COLISÃO TRASEIRA  5,0  0,0    0,0      0,0      0,0    0,0      0,0     0,0    0,0      1.0            0.0        Longo da via         Bom       Sem defeito  Perfeito estado         Seca  Perfeito estado  Faixa de retenção  Não há placas                NaN       Única  Faixa contínua               NaN          NaN             8       Houve vítima        Agosto\n",
       "2155  202225719,0 2022-10-29   0.0  COM VÍTIMA  FINALIZADA  SANTO ANTÔNIO                  AV GUARARAPES    NaN                          RUA DO SOL          EM FRENTE AO CORREIOS     SANTO ANTÔNIO         14,0         NaN   COLISÃO LATERAL  1,0  1,0    0,0      0,0      0,0    0,0      0,0     0,0    0,0      1.0            0.0          Cruzamento         Bom       Sem defeito  Perfeito estado         Seca  Perfeito estado  Faixa de pedestre  Não há placas            40 km/h       Dupla      Não existe               NaN          NaN            10       Houve vítima       Outubro\n",
       "109   202201139,0 2022-01-17   0.0  COM VÍTIMA  FINALIZADA    IMBIRIBEIRA                     RUA ITALIA    NaN            RUA ARQUITETO LUIZ NUNES  AO LADO DO SUPERMERCADO ASSAI       IMBIRIBEIRA          NaN         NaN   COLISÃO FRONTAL  0,0  0,0    1,0      0,0      0,0    1,0      0,0     0,0    0,0      1.0            0.0          Cruzamento         Bom        Não existe       Incompleta         Seca  Perfeito estado         Não existe  Placas \"Pare\"                NaN       Dupla      Não existe               NaN          NaN             1       Houve vítima       Janeiro\n",
       "2261  202226885,0 2022-11-12   0.0  SEM VÍTIMA  FINALIZADA       MADALENA          RUA JOAO IVO DA SILVA  232,0                 RUA RICARDO SALAZAR                            NaN          MADALENA          NaN    SUBURBIO        TOMBAMENTO  1,0  0,0    0,0      0,0      0,0    0,0      0,0     0,0    0,0      0.0            0.0                 NaN         NaN               NaN              NaN          NaN              NaN                NaN            NaN                NaN         NaN             NaN               NaN          NaN            11  Não houve vítima.      Novembro"
      ]
     },
     "execution_count": 94,
     "metadata": {},
     "output_type": "execute_result"
    }
   ],
   "source": [
    "df[\"Mes_acidente1\"] = df[\"Mes_acidente\"].apply(mes)\n",
    "df.sample(5)"
   ]
  }
 ],
 "metadata": {
  "kernelspec": {
   "display_name": "Python 3",
   "language": "python",
   "name": "python3"
  },
  "language_info": {
   "codemirror_mode": {
    "name": "ipython",
    "version": 3
   },
   "file_extension": ".py",
   "mimetype": "text/x-python",
   "name": "python",
   "nbconvert_exporter": "python",
   "pygments_lexer": "ipython3",
   "version": "3.12.3"
  }
 },
 "nbformat": 4,
 "nbformat_minor": 2
}
